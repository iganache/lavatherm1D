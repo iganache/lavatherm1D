{
 "cells": [
  {
   "cell_type": "code",
   "execution_count": 1,
   "id": "d1493144",
   "metadata": {},
   "outputs": [],
   "source": [
    "import pandas as pd\n",
    "import numpy as np\n",
    "import matplotlib.pyplot as plt\n",
    "from scipy.special import erf\n",
    "import scipy.integrate as integrate\n",
    "\n",
    "import math\n",
    "\n",
    "import Lava as Lava"
   ]
  },
  {
   "cell_type": "markdown",
   "id": "f60ae83c-c009-414f-b748-9c801ae4c1c7",
   "metadata": {
    "jp-MarkdownHeadingCollapsed": true,
    "tags": []
   },
   "source": [
    "### <b> Comparison of upper surface cooling and crustal growth between Earth and Venus </b>"
   ]
  },
  {
   "cell_type": "code",
   "execution_count": null,
   "id": "f1fba79c-bb53-4a41-9a56-685b2937d95b",
   "metadata": {},
   "outputs": [],
   "source": [
    "## read in data from Flynn and Mouginins-Mark 1992\n",
    "data = pd.read_csv(\"FlynnMougnisMark_Puuoo.csv\")\n",
    "\n",
    "t_data = data.Seconds.to_numpy()\n",
    "T_data = data.Tc.to_numpy()"
   ]
  },
  {
   "cell_type": "code",
   "execution_count": null,
   "id": "4c2179a1",
   "metadata": {},
   "outputs": [],
   "source": [
    "Tlava = 1135 + 273\n",
    "Ta_venus = 737 \n",
    "Ta_earth = 30 + 273\n",
    "Tsub_venus = Ta_venus\n",
    "Tsub_earth = Ta_earth\n",
    "\n",
    "## Thermal parameters\n",
    "L = 3.2e5                 ## latent heat of fusion in J/kg; value from Wittmann et al.2017\n",
    "k = 1\n",
    "kappa = 5e-7\n",
    "\n",
    "## Predefined set of lambdasfor solcing the transcendental Stefan problem\n",
    "lambdas = np.arange(1.5, 0, -1e-5)"
   ]
  },
  {
   "cell_type": "code",
   "execution_count": null,
   "id": "87bf0f72",
   "metadata": {},
   "outputs": [],
   "source": [
    "## Earth\n",
    "Trange = np.arange(Tlava, Ta_earth, -5)\n",
    "\n",
    "trange_earth = np.zeros_like(Trange, dtype = np.float32)\n",
    "trange_venus_noconv = np.zeros((2, len(Trange)), dtype = np.float32)\n",
    "trange_venus_snyder = np.zeros_like(Trange, dtype = np.float32)\n",
    "\n",
    "upper_crust_earth = np.zeros_like(Trange, dtype = np.float32)\n",
    "upper_crust_venus_noconv = np.zeros((2, len(Trange)), dtype = np.float32)\n",
    "upper_crust_venus_snyder = np.zeros_like(Trange, dtype = np.float32)"
   ]
  },
  {
   "cell_type": "code",
   "execution_count": null,
   "id": "9212223a",
   "metadata": {},
   "outputs": [],
   "source": [
    "l_final = 0\n",
    "for i, T in enumerate(Trange):\n",
    "    \n",
    "    if Trange[i]==Tlava:\n",
    "        trange_earth[i] = 0\n",
    "        trange_venus_noconv[0,i] = 0\n",
    "        trange_venus_noconv[1,i] = 0\n",
    "        trange_venus_snyder[i] = 0\n",
    "        \n",
    "    else:\n",
    "        ## Solving the Stefan problem to get lambda\n",
    "        c = Lava.heat_capacity(T)\n",
    "        rho = Lava.density(T)\n",
    "        kappa = 1 / rho / c\n",
    "        RHS = L * np.pi ** 0.5 / c / (Tlava - T)\n",
    "\n",
    "\n",
    "        l = lambdas[np.argmin(np.abs(RHS - Lava.Stefan_lambda_upper_crust(lambdas)))]  \n",
    "\n",
    "\n",
    "        ## Compute time at which surface temperature T is reached for Earth\n",
    "        emis = 0.95\n",
    "        Qrad = Lava.Radiation_flux(T, Ta_earth, emis)\n",
    "\n",
    "        hconv = 50\n",
    "        Qconv = Lava.Convection_flux(T, Ta_earth, hconv)\n",
    "\n",
    "        t_sqroot = k * (Tlava - T) / erf(l) / (np.pi*kappa)**0.5 / (Qrad + Qconv)\n",
    "        trange_earth[i] = t_sqroot**2\n",
    "        upper_crust_earth[i] = Lava.crust_thickness(l, kappa, trange_earth[i])\n",
    "\n",
    "        if T >= Ta_venus:\n",
    "            ## Compute time at which surface temperature T is reached for Venus\n",
    "\n",
    "            ## Mueller method\n",
    "            emis = 0.95\n",
    "            Qrad = Lava.Radiation_flux(T, Ta_venus, emis)\n",
    "            Qconv1 = Lava.Convection_flux(T, Ta_venus, 1e-5)\n",
    "            Qconv2 = Lava.Convection_flux(T, Ta_venus, 208)\n",
    "\n",
    "            t_sqroot = k * (Tlava - T) / erf(l) / (np.pi*kappa)**0.5 / (Qrad + Qconv1)\n",
    "            trange_venus_noconv[0,i] = t_sqroot**2\n",
    "            upper_crust_venus_noconv[0, i] = Lava.crust_thickness(l, kappa, trange_venus_noconv[0,i] )\n",
    "            t_sqroot = k * (Tlava - T) / erf(l) / (np.pi*kappa)**0.5 / (Qrad + Qconv2)\n",
    "            trange_venus_noconv[1,i] = t_sqroot**2\n",
    "            upper_crust_venus_noconv[1, i] = Lava.crust_thickness(l, kappa, trange_venus_noconv[1,i] )\n",
    "\n",
    "\n",
    "            ## Flynn method\n",
    "            Q_snyder = 1.07 * 1e-13 * T**4.85 * 1000                                                        ## heat flux in W/m2 using eq 8 of Flynn et al. 2023\n",
    "            t_sqroot = k * (Tlava - T) / erf(l) / (np.pi*kappa)**0.5 / Q_snyder\n",
    "            trange_venus_snyder[i] = t_sqroot**2\n",
    "            upper_crust_venus_snyder[i] = Lava.crust_thickness(l, kappa, trange_venus_snyder[i] )\n",
    "            \n",
    "            l_final = l\n",
    "\n",
    "            \n",
    "        elif T < Ta_venus:\n",
    "            trange_venus_noconv[0,i] = np.nan\n",
    "            trange_venus_noconv[1,i] = np.nan\n",
    "            trange_venus_snyder[i] = np.nan"
   ]
  },
  {
   "cell_type": "code",
   "execution_count": null,
   "id": "854d9f3a",
   "metadata": {},
   "outputs": [],
   "source": [
    "fig, ax = plt.subplots(1,1)\n",
    "fig.set_size_inches(12, 8)\n",
    "\n",
    "ax.plot(trange_earth, Trange)\n",
    "# ax.plot(trange_venus_noconv[0], Trange, '--')\n",
    "ax.plot(trange_venus_noconv[1], Trange, '--')\n",
    "ax.plot(trange_venus_snyder, Trange)\n",
    "ax.scatter(t_data, T_data)\n",
    "ax.semilogx()\n",
    "ax.set_xlim(1e-1, 1e8)\n",
    "plt.show()"
   ]
  },
  {
   "cell_type": "code",
   "execution_count": null,
   "id": "b4ffc31a-9462-447a-96cf-6718656954d2",
   "metadata": {},
   "outputs": [],
   "source": [
    "fig, ax = plt.subplots(1,1)\n",
    "fig.set_size_inches(12, 8)\n",
    "\n",
    "ax.plot(trange_earth, upper_crust_earth)\n",
    "# ax.plot(trange_venus_noconv[0], upper_crust_venus_noconv[0], '--')\n",
    "ax.plot(trange_venus_noconv[1], upper_crust_venus_noconv[1], '--')\n",
    "ax.plot(trange_venus_snyder, upper_crust_venus_snyder)\n",
    "# ax.scatter(t_data, T_data)\n",
    "ax.semilogx()\n",
    "ax.semilogy()\n",
    "# ax.set_xlim(1e-1, 1e8)\n",
    "plt.show()"
   ]
  },
  {
   "cell_type": "markdown",
   "id": "5f32d861-f367-4dbb-83c9-6d165e0f7515",
   "metadata": {},
   "source": [
    "### <b> Lava flow CAS model for a 10 m thick and 60m thick flow on Earth and Venus </b>"
   ]
  },
  {
   "cell_type": "code",
   "execution_count": 4,
   "id": "9160ee35-93ed-482c-b9e9-7231f0117abf",
   "metadata": {},
   "outputs": [],
   "source": [
    "lava_thickness = [10, 60]\n",
    "\n",
    "Tlava = 1135 + 273\n",
    "Ta_venus = 737 \n",
    "Ta_earth = 30 + 273\n",
    "Tsub_venus = Ta_venus\n",
    "Tsub_earth = Ta_earth\n",
    "\n",
    "## Thermal parameters\n",
    "L = 3.2e5                 ## latent heat of fusion in J/kg; value from Wittmann et al.2017\n",
    "k = 1\n",
    "kappa = 5e-7\n",
    "\n",
    "## Predefined set of lambdasfor solcing the transcendental Stefan problem\n",
    "lambdas = np.arange(1.5, 0, -1e-5)"
   ]
  },
  {
   "cell_type": "code",
   "execution_count": null,
   "id": "5c8d3553-0e2a-4f23-8afb-62484294e9f9",
   "metadata": {},
   "outputs": [],
   "source": [
    "## Case 1 - Venus 10 m\n",
    "lt = lava_thickness[0]\n",
    "zend = -100\n",
    "dz = 1e-2\n",
    "z = np.arange(zend, lt, dz)\n",
    "dt = 10\n",
    "\n",
    "Tsub = Tsub_earth\n",
    "Ta = Ta_earth \n",
    "\n",
    "T_pre_eq = np.arange(Tlava-1, Tsub, -0.5)\n",
    "t_pre_eq = np.zeros_like(T_pre_eq, dtype = np.float32)\n",
    "t_eq = 0\n",
    "Cup_pre_eq = np.zeros_like(T_pre_eq, dtype = np.float32)\n",
    "Cbase_pre_eq = np.zeros_like(T_pre_eq, dtype = np.float32)\n",
    "\n",
    "T_up = np.zeros((len(T_pre_eq), ), dtype=np.float32)\n",
    "\n",
    "t_surface_eq = 0\n",
    "l_lower = 0\n",
    "l_upper = 0\n",
    "\n",
    "fig, ax = plt.subplots(1,1)\n",
    "fig.set_size_inches(8, 8)\n",
    "\n",
    "for i, T in enumerate(T_pre_eq):\n",
    "    c = Lava.heat_capacity(T)\n",
    "    rho = Lava.density(T)\n",
    "    kappa = Lava.diffusivity(1, rho, c)\n",
    "    \n",
    "    ################### Computation of lambda ###########################################\n",
    "    # Upper crust\n",
    "    RHS = L * np.pi ** 0.5 / c / (Tlava - T)\n",
    "    l_up = lambdas[np.argmin(np.abs(RHS - Lava.Stefan_lambda_upper_crust(lambdas)))] \n",
    "    # Lower crust\n",
    "    RHS_lower = L * np.pi ** 0.5 / c / (Tlava - Tsub)         \n",
    "    l_base = lambdas[np.argmin(np.abs(RHS - Lava.Stefan_lambda_basal_crust(lambdas)))] \n",
    "    \n",
    "    \n",
    "    ################### Computation of fluxes and time ###################################\n",
    "    # Qsnyder = Lava.Snyder_flux(T)\n",
    "    Qrad = Lava.Radiation_flux(T, Ta)\n",
    "    Qconv = Lava.Convection_flux(T, Ta)\n",
    "    # Q = Qsnyder\n",
    "    Q = Qrad + Qconv\n",
    "    t = Lava.getTime(T, Tlava, Q, l_up, k, kappa)\n",
    "    t_pre_eq[i] = t\n",
    "    t_eq = t\n",
    "    \n",
    "    ################### Computation of fluxes and time ###################################\n",
    "    Cbase_pre_eq[i] = Lava.crust_thickness(l_base, kappa, t)\n",
    "    Cup_pre_eq[i] = Lava.crust_thickness(l_up, kappa, t)\n",
    "   \n",
    "    ################### Check if the lava hassolidified ##################################\n",
    "    if Cup_pre_eq[i] + Cbase_pre_eq[i] >= lt:\n",
    "        print(\"lava solidification occured at or before \", t/3600, \" hours\")\n",
    "        break\n",
    "        \n",
    "\n",
    "    ################### Computtemperature profile in the basal crust #######################\n",
    "    y_base = np.linspace(zend, Cbase_pre_eq[i], 50)\n",
    "    T_base = (((Tlava-Tsub) / (erf(l_base)+1)) * (1 + erf(y_base / 2/ (kappa*t)**0.5))) + Tsub\n",
    "       \n",
    "    ################### Computtemperature profile in the upper crust #######################\n",
    "    y_up = np.linspace(0, Cup_pre_eq[i], 50)\n",
    "    T_up = (((Tlava-T) / erf(l_up)) * erf((y_up) / 2/(kappa*t)**0.5)) + T\n",
    "\n",
    "    \n",
    "\n",
    "    ax.plot(T_base, y_base, \"--\")\n",
    "    ax.plot(T_up, lt-y_up)\n",
    "    \n",
    "    \n",
    "    \n",
    "\n",
    "    \n",
    "plt.ylim(-10, lt+5)\n",
    "plt.show()\n",
    "print(t_eq/3600)"
   ]
  },
  {
   "cell_type": "code",
   "execution_count": 23,
   "id": "872469da-ead6-429c-8a1f-b8540e560ed5",
   "metadata": {},
   "outputs": [
    {
     "name": "stdout",
     "output_type": "stream",
     "text": [
      "lava solidification occured at or before  7289.482966903487  hours\n"
     ]
    }
   ],
   "source": [
    "### trying a differnet algorithm\n",
    "\n",
    "## Case 1 - Venus 10 m\n",
    "lt = lava_thickness[0]\n",
    "zend = -100\n",
    "dz = 1e-2\n",
    "z = np.arange(zend, lt, dz)\n",
    "dt = 10\n",
    "\n",
    "Tsub = Tsub_earth\n",
    "Ta = Ta_earth \n",
    "\n",
    "T_pre_eq = np.arange(Tlava-1, Tsub, -0.5)\n",
    "t_pre_eq = np.zeros_like(T_pre_eq, dtype = np.float32)\n",
    "l_up_pre_eq = np.zeros_like(T_pre_eq, dtype = np.float32)\n",
    "l_base_pre_eq = np.zeros_like(T_pre_eq, dtype = np.float32)\n",
    "\n",
    "t_eq = 0.0\n",
    "t_solid_near = 0.0\n",
    "Cup_pre_eq = np.zeros_like(T_pre_eq, dtype = np.float32)\n",
    "Cbase_pre_eq = np.zeros_like(T_pre_eq, dtype = np.float32)\n",
    "\n",
    "T_up = np.zeros((len(T_pre_eq), ), dtype=np.float32)\n",
    "\n",
    "l_lower = 0\n",
    "l_upper = 0\n",
    "\n",
    "for i, T in enumerate(T_pre_eq):\n",
    "    c = Lava.heat_capacity(T)\n",
    "    rho = Lava.density(T)\n",
    "    kappa = Lava.diffusivity(1, rho, c)\n",
    "    \n",
    "    ################### Computation of lambda ###########################################\n",
    "    # Upper crust\n",
    "    RHS = L * np.pi ** 0.5 / c / (Tlava - T)\n",
    "    l_up_pre_eq[i] = lambdas[np.argmin(np.abs(RHS - Lava.Stefan_lambda_upper_crust(lambdas)))] \n",
    "    # Lower crust\n",
    "    RHS_lower = L * np.pi ** 0.5 / c / (Tlava - Tsub)         \n",
    "    l_base_pre_eq[i] = lambdas[np.argmin(np.abs(RHS - Lava.Stefan_lambda_basal_crust(lambdas)))] \n",
    "    \n",
    "    \n",
    "    ################### Computation of fluxes and time ###################################\n",
    "    # Qsnyder = Lava.Snyder_flux(T)\n",
    "    Qrad = Lava.Radiation_flux(T, Ta)\n",
    "    Qconv = Lava.Convection_flux(T, Ta)\n",
    "    # Q = Qsnyder\n",
    "    Q = Qrad + Qconv\n",
    "    t = Lava.getTime(T, Tlava, Q, l_up, k, kappa)\n",
    "    t_pre_eq[i] = t\n",
    "    t_eq = t\n",
    "    \n",
    "    ################### Computation of fluxes and time ###################################\n",
    "    Cbase_pre_eq[i] = Lava.crust_thickness(l_base_pre_eq[i], kappa, t)\n",
    "    Cup_pre_eq[i] = Lava.crust_thickness(l_up_pre_eq[i], kappa, t)\n",
    "    \n",
    "\n",
    "   \n",
    "    ################### Check if the lava hassolidified ##################################\n",
    "    if Cup_pre_eq[i] + Cbase_pre_eq[i] >= lt:\n",
    "        if t_solid_near == 0.0:\n",
    "            t_solid_near = t\n",
    "            print(\"lava solidification occured at or before \", t/3600, \" hours\")"
   ]
  },
  {
   "cell_type": "code",
   "execution_count": 14,
   "id": "d7dfb456-0596-4213-8e2b-11da7d49283c",
   "metadata": {},
   "outputs": [
    {
     "data": {
      "image/png": "[encoded data removed]",
      "text/plain": [
       "<Figure size 576x576 with 1 Axes>"
      ]
     },
     "metadata": {
      "needs_background": "light"
     },
     "output_type": "display_data"
    }
   ],
   "source": [
    "fig, ax = plt.subplots(1,1)\n",
    "fig.set_size_inches(8, 8)\n",
    "\n",
    "ax.plot(t_pre_eq, T_pre_eq)\n",
    "ax.axvline(t_solid_near, linestyle='--')\n",
    "ax.semilogx()\n",
    "\n",
    "ax.set_xlabel(\"time in s\")\n",
    "ax.set_ylabel(\"Tempertaure in K\")\n",
    "plt.show()"
   ]
  },
  {
   "cell_type": "code",
   "execution_count": 42,
   "id": "38e7d656-7b36-4316-9958-05663550072c",
   "metadata": {},
   "outputs": [],
   "source": [
    "## Find time of solidification of lava has alrady solidified\n",
    "if t_solid_near != 0.0:\n",
    "    idx = np.where(t_pre_eq == t_solid_near)[0][0]\n",
    "    tstart = t_pre_eq[idx-1]\n",
    "    tstop = t_pre_eq[idx]\n",
    "    interval = np.int64(tstop - tstart)\n",
    "    \n",
    "\n",
    "#     interval = np.arange(tstart, stop+1, 1)\n",
    "    \n",
    "#     for i in range(len(interval)):\n",
    "#         t = interval[i]\n",
    "#         T = \n",
    "#         kappa = \n",
    "        \n",
    "        "
   ]
  },
  {
   "cell_type": "code",
   "execution_count": 29,
   "id": "4078dd22-acb0-4f17-9469-8c8541cbb527",
   "metadata": {},
   "outputs": [
    {
     "data": {
      "text/plain": [
       "0.90541"
      ]
     },
     "execution_count": 29,
     "metadata": {},
     "output_type": "execute_result"
    }
   ],
   "source": [
    "idx = np.where(t_pre_eq == t_solid_near)[0][0]\n",
    "l_up_pre_eq[idx-1]"
   ]
  },
  {
   "cell_type": "code",
   "execution_count": 25,
   "id": "e651dcf8-d18d-4510-b253-ba14d1155256",
   "metadata": {},
   "outputs": [
    {
     "data": {
      "text/plain": [
       "2199"
      ]
     },
     "execution_count": 25,
     "metadata": {},
     "output_type": "execute_result"
    }
   ],
   "source": [
    "idx"
   ]
  },
  {
   "cell_type": "code",
   "execution_count": null,
   "id": "b627fa3e-ac69-4b58-a53d-6a63d6ae9c38",
   "metadata": {},
   "outputs": [],
   "source": []
  }
 ],
 "metadata": {
  "kernelspec": {
   "display_name": "Python 3 (ipykernel)",
   "language": "python",
   "name": "python3"
  },
  "language_info": {
   "codemirror_mode": {
    "name": "ipython",
    "version": 3
   },
   "file_extension": ".py",
   "mimetype": "text/x-python",
   "name": "python",
   "nbconvert_exporter": "python",
   "pygments_lexer": "ipython3",
   "version": "3.9.12"
  }
 },
 "nbformat": 4,
 "nbformat_minor": 5
}
