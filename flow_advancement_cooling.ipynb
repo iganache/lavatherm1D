{
 "cells": [
  {
   "cell_type": "code",
   "execution_count": 1,
   "metadata": {},
   "outputs": [],
   "source": [
    "import numpy as np\n",
    "import matplotlib.pyplot as plt"
   ]
  },
  {
   "cell_type": "code",
   "execution_count": 2,
   "metadata": {},
   "outputs": [],
   "source": [
    "def viscosity(Tlava, Tcurrent, phi_crystal, phi_crystal_max, eta0):\n",
    "    a = 0.04  #in K-1\n",
    "    eta = eta0 * (1-(phi_crystal / phi_crystal_max)**-2.5) * np.exp(a * (Tlava - Tcurrent))\n",
    "\n",
    "def yield_strength(Tlava, Tcurrent, phi_crystal):\n",
    "    a = 1e-2 ## in PA\n",
    "    b = 0.08 ## in K-1\n",
    "    ys = (6500*phi_crystal**2.85) + a*np.exp(b*(Tlava-Tcurrent)-1)\n",
    "    return ys\n",
    "\n",
    "def basal_shear_stress(rho, g, h, theta_deg):\n",
    "    return rho * g * h * np.sin(np.rad2deg(theta_deg))\n",
    "\n",
    "def velocity_Newtonian(rho, h, eta, theta_deg, C = 3):\n",
    "    ## Jeffreys equation\n",
    "    ## C = 3 for a filled channel\n",
    "    ## C=8 for a wide flow with a moving top\n",
    "    ## C = 12 for a sheet flow\n",
    "    vel = rho*g*h**2*np.sin(np.deg2rad(theta_deg)) / C / eta\n",
    "    return vel\n",
    "\n",
    "def velocity_Bingham(rho, g, h, eta, theta_deg, yield_strength):\n",
    "    c1 = 4/3\n",
    "    c2 = 1/3\n",
    "    c3 = 4\n",
    "    basal_stress = basal_shear_stress(rho, g, h, theta_deg)\n",
    "    vel = rho*g*h**2*np.sin(theta_deg) / (3*eta) * (1 - c1*(yield_strength/basal_stress) + c2*(yield_strength/basal_stress)**c3)\n",
    "    return vel\n",
    "\n",
    "def levee_width(rho, g, eta, theta_deg, yield_strength, effusion_rate):\n",
    "    wb = yield_strength / (2 * g * rho * np.deg2rad(theta_deg)**2)\n",
    "    return wb\n",
    "    \n",
    "def levee_thickness(rho, g, eta, theta_deg, yield_strength, effusion_rate):\n",
    "    h = yield_strength / g / rho/ np.deg2rad(theta_deg)\n",
    "    return h\n",
    "\n",
    "def channel_width(rho, g, eta, theta_deg, yield_strength, effusion_rate, wb):\n",
    "    E= effusion_rate\n",
    "    wc1 = (24 * E * eta / yield_strength / np.deg2rad(theta_deg)**2) ** (1/3)\n",
    "    wc2 = ((24 * E * eta)**4 * g * rho / yield_strength**5 / np.deg2rad(theta_deg)**6) ** (1/11)\n",
    "\n",
    "    \n",
    "    if wc1 <= 2*wb:\n",
    "        return wc1\n",
    "    elif wc2 > 2*wb:\n",
    "        return wc2\n",
    "    else:\n",
    "        print(\"channel width computation error\")\n",
    "        \n",
    "\n",
    "def channel_thickness(rho, g, eta, theta_deg, yield_strength, effusion_rate):\n",
    "    wb = levee_width(rho, g, eta, theta_deg, yield_strength, effusion_rate)\n",
    "    wc = channel_width(rho, g, eta, theta_deg, yield_strength, effusion_rate, wb)\n",
    "    wavg = 0.5 *(2* wb + wc)\n",
    "    h = (yield_strength * wavg / g / rho) ** 0.5\n",
    "    return h\n",
    "\n",
    "\n",
    "def cooling_timescale(rho, h, Tstart, Tend, C, flux):\n",
    "    t_cool = (rho*C*h*(Tstart-Tend)) / flux\n",
    "    return t_cool\n",
    "\n",
    "def advancement_timescale(w, h, l, E):\n",
    "    E= effusion_rate\n",
    "    volume = l*w*h\n",
    "    t_adv = volume / E\n",
    "    return t_adv  \n",
    "\n",
    "def flow_length():\n",
    "    pass"
   ]
  },
  {
   "cell_type": "code",
   "execution_count": 113,
   "metadata": {},
   "outputs": [],
   "source": [
    "def radiative_flux(Tsurf, Tatm, emis_surf = 0.95):\n",
    "    sigmaB = 5.670374419e-8                    ## Stefan Boltzmann constant\n",
    "    q = sigmaB * emis_surf * (Tsurf**4 - Tatm**4)\n",
    "    return q\n",
    "\n",
    "def convection_flux(Tsurf, Tatm, hconv = 50):\n",
    "    sigmaB = 5.670374419e-8                    ## Stefan Boltzmann constant\n",
    "    q = hconv * (Tsurf - Tatm)\n",
    "    return q\n",
    "\n",
    "def conductive_flux():\n",
    "    pass\n",
    "\n",
    "def flynn_flux(Tsurface):\n",
    "    q = 1.07e-13 * Tsurface**4.84 * 1e3\n",
    "    return q\n",
    "\n",
    "def coupled_flux(Tsurf, Tatm, k, emis_surf = 0.95):\n",
    "    \n",
    "    ## using formula from Siegel and Howell chapter 7\n",
    "    ## 2 solutions are presented; the additive solution (eq 7-20) is used\n",
    "    \n",
    "    g = 8.87\n",
    "    sigmaB = 5.670374419e-8                    ## Stefan Boltzmann constant\n",
    "    \n",
    "    k_air = 5.5e-2                             ## thermal conductivity of atmosphere Wm-1K-1 (Snyder, 2002)\n",
    "    C_air = 1.15e3                             ## specific heat capacity of atmosphere Jkg-1K-1 (Snyder, 2002)\n",
    "    rho_air = 65                               ## density of the atmosphere in kgm-3 (Snyder, 2002)\n",
    "    eta_air = 3.4e-5                           ## dynamic viscosity of the atmosphere in kgm-3 (Snyder, 2002)\n",
    "    beta_air = 1.3e-3                          ## thermal expansion coefficient (Snyder, 2002)\n",
    "    kappa_air =  k_air / rho_air / C_air       ## thermal diffusivity of the atmosphere\n",
    "    emis_air = 1                               ## emissivity of the atmosphere (Snyder, 2002)\n",
    "    # emis_surf = 1                              ## emissivity of the surface (Snyder, 2002)\n",
    "    \n",
    "    H = 1                                   ## from Kesthelyi and Denlinger, 1995\n",
    "    a = 0.1                                    ## gray absorption coefficient in m-1 (check if right)\n",
    "    \n",
    "    N = k*a / 4 / sigmaB / Tsurf**3             ## conduction parameter\n",
    "    print(\"conduction parameter\", N)\n",
    "    \n",
    "    # Ra_crit = 2040 * 7100 / 2.3e-4           ## Snyder (2002) use N = 2.3e-4\n",
    "    Ra_crit = 2040 * 7100 / N\n",
    "    Ra = g * beta_air * (Tsurf - Tatm) * H**3 / eta_air / kappa_air\n",
    "    D = (Ra_crit / Ra)**(1/3)\n",
    "    print(\"boundary layer thickness = \", D)\n",
    "    \n",
    "    qcond = a * (Tsurf-Tatm) / D\n",
    "    qrad = sigmaB*(Tsurf**4-Tatm**4) / (0.74*D*a + emis_air**-1 + emis_surf**-1 - 1)\n",
    "    qtotal = qrad + qcond\n",
    "    return qtotal"
   ]
  },
  {
   "cell_type": "code",
   "execution_count": 103,
   "metadata": {},
   "outputs": [],
   "source": [
    "## Initial lava conditions ##\n",
    "\n",
    "## environemnt\n",
    "g = 8.87\n",
    "theta_deg = 2\n",
    "Tatm = 737\n",
    "\n",
    "## eruption\n",
    "effusion_rate = 500          ## m3/s\n",
    "Tlava = 1400                 ## K\n",
    "rho = 2600                   ## Basalt density from Davies et al., 2006\n",
    "phi0_crystal = 0.25\n",
    "eta0 = 1000                  ## Pas\n",
    "ys0 = 6500*phi0_crystal**2.85\n",
    "\n",
    "\n",
    "## Other variables\n",
    "L = 100e3                    ## latent heat capacity in J/kg; value from Wittmann et al.2017\n",
    "C =  1200                    ## specific heat capacity in J/kg/K; value from Wittman et al. 2017\n",
    "k = 1                        ## thermal conductivity in W/m/K from Head and Wilson 1986, and Davies et al., 2005\n",
    "kappa = k/rho/C              ## thermal diffusivity in m2/s;"
   ]
  },
  {
   "cell_type": "code",
   "execution_count": 104,
   "metadata": {},
   "outputs": [
    {
     "name": "stdout",
     "output_type": "stream",
     "text": [
      "conduction parameter 0.0001606734670198092\n",
      "boundary layer thickness =  0.6700874394187851\n"
     ]
    }
   ],
   "source": [
    "Tsurf = Tlava\n",
    "eta = eta0\n",
    "ys = ys0\n",
    "phi_crystal = phi0_crystal\n",
    "\n",
    "\n",
    "## Emplacement\n",
    "wb = levee_width(rho, g, eta, theta_deg, ys, effusion_rate)\n",
    "wc = channel_width(rho, g, eta, theta_deg, ys, effusion_rate, wb)\n",
    "h = channel_thickness(rho, g, eta, theta_deg, ys, effusion_rate)\n",
    "hb = levee_thickness(rho, g, eta, theta_deg, ys, effusion_rate)\n",
    "vel = velocity_Bingham(rho, g, h, eta, theta_deg, ys)\n",
    "\n",
    "## surface flux\n",
    "qflynn = flynn_flux(Tsurf)\n",
    "qcoupled = coupled_flux(Tsurf, 750, k, 0.95)  "
   ]
  },
  {
   "cell_type": "code",
   "execution_count": 120,
   "metadata": {},
   "outputs": [
    {
     "name": "stdout",
     "output_type": "stream",
     "text": [
      "conduction parameter [0.00013063 0.00014462 0.00016067 0.0001792  0.00020068 0.00022573\n",
      " 0.00025514 0.00028989 0.00033125 0.00038086]\n",
      "boundary layer thickness =  [0.68059848 0.67294471 0.66567884 0.65890303 0.65275236 0.64740908\n",
      " 0.64312512 0.64025904 0.63933975 0.64118361]\n"
     ]
    },
    {
     "data": {
      "image/png": "[encoded data removed]",
      "text/plain": [
       "<Figure size 576x576 with 1 Axes>"
      ]
     },
     "metadata": {
      "needs_background": "light"
     },
     "output_type": "display_data"
    }
   ],
   "source": [
    "## comparing coupled heat loss implementations\n",
    "X = np.arange(1500, 1000, -50)\n",
    "flynn_2023 = flynn_flux(X) / 1e3\n",
    "this_study =  coupled_flux(X, 737, k, 0.95) / 1e3\n",
    "rad = radiative_flux(X, 737, 0.95) / 1e3\n",
    "conv = convection_flux(X, 737, 0.95) / 1e3\n",
    "plt.figure(figsize = (8,8))\n",
    "plt.plot(X, flynn_2023, label = \"Flynn et al. 2023\")\n",
    "plt.plot(X, this_study, label = \"this study\")\n",
    "plt.plot(X, rad, label = \"radiation only\")\n",
    "plt.plot(X, conv, label = \"convection only\")\n",
    "plt.plot(X, conv+rad, label = \"convection + radiation\")\n",
    "plt.xlabel(\"Surface temperature K\")\n",
    "plt.ylabel(\"Surface heat flux kW/m2\")\n",
    "plt.legend()\n",
    "plt.show()"
   ]
  },
  {
   "cell_type": "code",
   "execution_count": 107,
   "metadata": {},
   "outputs": [
    {
     "ename": "NameError",
     "evalue": "name 'Tcurrent' is not defined",
     "output_type": "error",
     "traceback": [
      "\u001b[0;31m---------------------------------------------------------------------------\u001b[0m",
      "\u001b[0;31mNameError\u001b[0m                                 Traceback (most recent call last)",
      "Input \u001b[0;32mIn [107]\u001b[0m, in \u001b[0;36m<cell line: 2>\u001b[0;34m()\u001b[0m\n\u001b[1;32m      1\u001b[0m \u001b[38;5;66;03m## calculation of new variables\u001b[39;00m\n\u001b[0;32m----> 2\u001b[0m eta \u001b[38;5;241m=\u001b[39m viscosity(Tlava, \u001b[43mTcurrent\u001b[49m, phi_crystal, phi_crystal_max, eta0)\n\u001b[1;32m      3\u001b[0m ys \u001b[38;5;241m=\u001b[39m yield_strength()\n\u001b[1;32m      4\u001b[0m vel \u001b[38;5;241m=\u001b[39m velocity_Bingham(rho, g, h, eta, theta_deg, yield_strength)\n",
      "\u001b[0;31mNameError\u001b[0m: name 'Tcurrent' is not defined"
     ]
    }
   ],
   "source": [
    "## calculation of new variables\n",
    "eta = viscosity(Tlava, Tcurrent, phi_crystal, phi_crystal_max, eta0)\n",
    "ys = yield_strength()\n",
    "vel = velocity_Bingham(rho, g, h, eta, theta_deg, yield_strength)"
   ]
  },
  {
   "cell_type": "code",
   "execution_count": null,
   "metadata": {},
   "outputs": [],
   "source": []
  }
 ],
 "metadata": {
  "kernelspec": {
   "display_name": "Python 3 (ipykernel)",
   "language": "python",
   "name": "python3"
  },
  "language_info": {
   "codemirror_mode": {
    "name": "ipython",
    "version": 3
   },
   "file_extension": ".py",
   "mimetype": "text/x-python",
   "name": "python",
   "nbconvert_exporter": "python",
   "pygments_lexer": "ipython3",
   "version": "3.9.12"
  }
 },
 "nbformat": 4,
 "nbformat_minor": 4
}
