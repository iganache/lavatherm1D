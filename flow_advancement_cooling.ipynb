{
 "cells": [
  {
   "cell_type": "code",
   "execution_count": 1,
   "metadata": {},
   "outputs": [],
   "source": [
    "import numpy as np\n",
    "import matplotlib.pyplot as plt"
   ]
  },
  {
   "cell_type": "code",
   "execution_count": 132,
   "metadata": {},
   "outputs": [],
   "source": [
    "def viscosity(Tlava, Tcurrent, phi_crystal, phi_crystal_max, eta0):\n",
    "    a = 0.04  #in K-1\n",
    "    eta = eta0 * (1-(phi_crystal / phi_crystal_max)**-2.5) * np.exp(a * (Tlava - Tcurrent))\n",
    "\n",
    "def yield_strength(Tlava, Tcurrent, phi_crystal):\n",
    "    a = 1e-2 ## in PA\n",
    "    b = 0.08 ## in K-1\n",
    "    ys = (6500*phi_crystal**2.85) + a*np.exp(b*(Tlava-Tcurrent)-1)\n",
    "    return ys\n",
    "\n",
    "def basal_shear_stress(rho, g, h, theta_deg):\n",
    "    return rho * g * h * np.sin(np.rad2deg(theta_deg))\n",
    "\n",
    "def velocity_Newtonian(rho, h, eta, theta_deg, C = 3):\n",
    "    ## Jeffreys equation\n",
    "    ## C = 3 for a filled channel\n",
    "    ## C=8 for a wide flow with a moving top\n",
    "    ## C = 12 for a sheet flow\n",
    "    vel = rho*g*h**2*np.sin(np.deg2rad(theta_deg)) / C / eta\n",
    "    return vel\n",
    "\n",
    "def velocity_Bingham(rho, g, h, eta, theta_deg, yield_strength):\n",
    "    c1 = 4/3\n",
    "    c2 = 1/3\n",
    "    c3 = 4\n",
    "    basal_stress = basal_shear_stress(rho, g, h, theta_deg)\n",
    "    vel = rho*g*h**2*np.sin(theta_deg) / (3*eta) * (1 - c1*(yield_strength/basal_stress) + c2*(yield_strength/basal_stress)**c3)\n",
    "    return vel\n",
    "\n",
    "def levee_width(rho, g, eta, theta_deg, yield_strength, effusion_rate):\n",
    "    wb = yield_strength / (2 * g * rho * np.deg2rad(theta_deg)**2)\n",
    "    print(2 * g * rho * np.deg2rad(theta_deg)**2)\n",
    "    return wb\n",
    "    \n",
    "def levee_thickness(rho, g, eta, theta_deg, yield_strength, effusion_rate):\n",
    "    h = yield_strength / g / rho/ np.deg2rad(theta_deg)\n",
    "    return h\n",
    "\n",
    "def channel_width(rho, g, eta, theta_deg, yield_strength, effusion_rate, wb):\n",
    "    E= effusion_rate\n",
    "    wc1 = (24 * E * eta / yield_strength / np.deg2rad(theta_deg)**2) ** (1/3)\n",
    "    wc2 = ((24 * E * eta)**4 * g * rho / yield_strength**5 / np.deg2rad(theta_deg)**6) ** (1/11)\n",
    "\n",
    "    \n",
    "    if wc1 <= 2*wb:\n",
    "        return wc1\n",
    "    elif wc2 > 2*wb:\n",
    "        print(wc1, wc2)\n",
    "        return wc2\n",
    "    else:\n",
    "        print(\"channel width computation error\")\n",
    "        \n",
    "\n",
    "def channel_thickness(rho, g, eta, theta_deg, yield_strength, effusion_rate):\n",
    "    wb = levee_width(rho, g, eta, theta_deg, yield_strength, effusion_rate)\n",
    "    wc = channel_width(rho, g, eta, theta_deg, yield_strength, effusion_rate, wb)\n",
    "    wavg = 0.5 *(2* wb + wc)\n",
    "    h = (yield_strength * wavg / g / rho) ** 0.5\n",
    "    return h\n",
    "\n",
    "\n",
    "def cooling_timescale(rho, h, Tstart, Tend, C, flux):\n",
    "    t_cool = (rho*C*h*(Tstart-Tend)) / flux\n",
    "    return t_cool\n",
    "\n",
    "def advancement_timescale(w, h, l, E):\n",
    "    E= effusion_rate\n",
    "    volume = l*w*h\n",
    "    t_adv = volume / E\n",
    "    return t_adv  \n",
    "\n",
    "def flow_length():\n",
    "    pass"
   ]
  },
  {
   "cell_type": "code",
   "execution_count": 165,
   "metadata": {},
   "outputs": [],
   "source": [
    "def radiative_flux():\n",
    "    pass\n",
    "\n",
    "def conductive_flux():\n",
    "    pass\n",
    "\n",
    "def flynn_flux(Tsurface):\n",
    "    flux = 1.07e-13 * Tsurface**4.84 * 1e3\n",
    "    return flux"
   ]
  },
  {
   "cell_type": "code",
   "execution_count": 166,
   "metadata": {},
   "outputs": [],
   "source": [
    "## Initial lava conditions ##\n",
    "\n",
    "## environemnt\n",
    "g = 8.87\n",
    "theta_deg = 2\n",
    "\n",
    "## eruption\n",
    "effusion_rate = 500          ## m3/s\n",
    "Tlava = 1400                 ## K\n",
    "rho = 2600                   ## Basalt density from Davies et al., 2006\n",
    "phi0_crystal = 0.25\n",
    "eta0 = 1000                  ## Pas\n",
    "ys0 = 6500*phi0_crystal**2.85\n",
    "\n",
    "\n",
    "## Other variables\n",
    "# L = 100e3                    ## latent heat capacity in J/kg; value from Wittmann et al.2017\n",
    "# C =  1200                    ## specific heat capacity in J/kg/K; value from Wittman et al. 2017\n",
    "# k = 1                        ## thermal conductivity in W/m/K from Head and Wilson 1986, and Davies et al., 2005\n",
    "# kappa = k/rho/c              ## thermal diffusivity in m2/s;"
   ]
  },
  {
   "cell_type": "code",
   "execution_count": 167,
   "metadata": {},
   "outputs": [
    {
     "data": {
      "text/plain": [
       "15.235513904729192"
      ]
     },
     "execution_count": 167,
     "metadata": {},
     "output_type": "execute_result"
    }
   ],
   "source": [
    "ys0 * 0.12184696791468343"
   ]
  },
  {
   "cell_type": "code",
   "execution_count": 168,
   "metadata": {},
   "outputs": [
    {
     "name": "stdout",
     "output_type": "stream",
     "text": [
      "56.20069548096858\n",
      "428.6551502103472 649.3090294709671\n",
      "56.20069548096858\n",
      "428.6551502103472 649.3090294709671\n"
     ]
    }
   ],
   "source": [
    "Tsurface = Tlava\n",
    "eta = eta0\n",
    "ys = ys0\n",
    "phi_crystal = phi0_crystal\n",
    "\n",
    "\n",
    "## Emplacement\n",
    "wb = levee_width(rho, g, eta, theta_deg, ys, effusion_rate)\n",
    "wc = channel_width(rho, g, eta, theta_deg, ys, effusion_rate, wb)\n",
    "h = channel_thickness(rho, g, eta, theta_deg, ys, effusion_rate)\n",
    "hb = levee_thickness(rho, g, eta, theta_deg, ys, effusion_rate)\n",
    "vel = velocity_Bingham(rho, g, h, eta, theta_deg, ys)\n",
    "\n",
    "## surface flux\n",
    "Q = flynn_flux(Tsurface)"
   ]
  },
  {
   "cell_type": "code",
   "execution_count": 169,
   "metadata": {},
   "outputs": [
    {
     "data": {
      "text/plain": [
       "180569.1153615039"
      ]
     },
     "execution_count": 169,
     "metadata": {},
     "output_type": "execute_result"
    }
   ],
   "source": [
    "Q"
   ]
  },
  {
   "cell_type": "code",
   "execution_count": 170,
   "metadata": {},
   "outputs": [
    {
     "ename": "NameError",
     "evalue": "name 'Tcurrent' is not defined",
     "output_type": "error",
     "traceback": [
      "\u001b[0;31m---------------------------------------------------------------------------\u001b[0m",
      "\u001b[0;31mNameError\u001b[0m                                 Traceback (most recent call last)",
      "Input \u001b[0;32mIn [170]\u001b[0m, in \u001b[0;36m<cell line: 2>\u001b[0;34m()\u001b[0m\n\u001b[1;32m      1\u001b[0m \u001b[38;5;66;03m## calculation of new variables\u001b[39;00m\n\u001b[0;32m----> 2\u001b[0m eta \u001b[38;5;241m=\u001b[39m viscosity(Tlava, \u001b[43mTcurrent\u001b[49m, phi_crystal, phi_crystal_max, eta0)\n\u001b[1;32m      3\u001b[0m ys \u001b[38;5;241m=\u001b[39m yield_strength()\n\u001b[1;32m      4\u001b[0m vel \u001b[38;5;241m=\u001b[39m velocity_Bingham(rho, g, h, eta, theta_deg, yield_strength)\n",
      "\u001b[0;31mNameError\u001b[0m: name 'Tcurrent' is not defined"
     ]
    }
   ],
   "source": [
    "## calculation of new variables\n",
    "eta = viscosity(Tlava, Tcurrent, phi_crystal, phi_crystal_max, eta0)\n",
    "ys = yield_strength()\n",
    "vel = velocity_Bingham(rho, g, h, eta, theta_deg, yield_strength)"
   ]
  },
  {
   "cell_type": "code",
   "execution_count": null,
   "metadata": {},
   "outputs": [],
   "source": []
  }
 ],
 "metadata": {
  "kernelspec": {
   "display_name": "Python 3 (ipykernel)",
   "language": "python",
   "name": "python3"
  },
  "language_info": {
   "codemirror_mode": {
    "name": "ipython",
    "version": 3
   },
   "file_extension": ".py",
   "mimetype": "text/x-python",
   "name": "python",
   "nbconvert_exporter": "python",
   "pygments_lexer": "ipython3",
   "version": "3.9.13"
  }
 },
 "nbformat": 4,
 "nbformat_minor": 4
}
