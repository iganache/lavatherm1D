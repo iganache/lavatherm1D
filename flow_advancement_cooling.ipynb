{
 "cells": [
  {
   "cell_type": "code",
   "execution_count": 1,
   "metadata": {},
   "outputs": [],
   "source": [
    "import numpy as np\n",
    "import matplotlib.pyplot as plt\n",
    "import pandas as pd\n",
    "import LavaFlow as flow"
   ]
  },
  {
   "cell_type": "markdown",
   "metadata": {},
   "source": [
    "## <b> Lava flow properties from Ian  </b>"
   ]
  },
  {
   "cell_type": "code",
   "execution_count": 2,
   "metadata": {},
   "outputs": [],
   "source": [
    "flow1 = {\"area_plan\": 898.0e6, \"length\": 72.0e3, \"width\": 12.47e3, \"height\": 50.0, \n",
    "         \"E\": 0.0, \"tcool\": 0.0, \"dTdx\": 0.0, \"dTdt\": 0.0, \"vel_avg\": 0.0,\n",
    "         \"E_e\": 0.0, \"tcool_e\": 0.0, \"dTdx_e\": 0.0, \"dTdt_e\": 0.0, \"vel_avg_e\": 0.0}\n",
    "flow2 = {\"area_plan\": 1042.0e6, \"length\": 188.0e3, \"width\": 5.5e3, \"height\": 20.0, \n",
    "         \"E\": 0.0, \"tcool\": 0.0, \"dTdx\": 0.0, \"dTdt\": 0.0, \"vel_avg\": 0.0,\n",
    "         \"E_e\": 0.0, \"tcool_e\": 0.0, \"dTdx_e\": 0.0, \"dTdt_e\": 0.0, \"vel_avg_e\": 0.0}\n",
    "flow3 = {\"area_plan\": 137.0e6, \"length\": 50.0e3, \"width\": 2.74e3, \"height\": 5.0, \n",
    "         \"E\": 0.0, \"tcool\": 0.0, \"dTdx\": 0.0, \"dTdt\": 0.0, \"vel_avg\": 0.0,\n",
    "         \"E_e\": 0.0, \"tcool_e\": 0.0, \"dTdx_e\": 0.0, \"dTdt_e\": 0.0, \"vel_avg_e\": 0.0}\n",
    "flow4 = {\"area_plan\": 360.0e6, \"length\": 45.0e3, \"width\": 8.0e3, \"height\": 0.0, \n",
    "         \"E\": 0.0, \"tcool\": 0.0, \"dTdx\": 0.0, \"dTdt\": 0.0, \"vel_avg\": 0.0,\n",
    "         \"E_e\": 0.0, \"tcool_e\": 0.0, \"dTdx_e\": 0.0, \"dTdt_e\": 0.0, \"vel_avg_e\": 0.0}\n",
    "flow5 = {\"area_plan\": 460.0e6, \"length\": 70.0e3, \"width\": 6.6e3, \"height\": 0.0, \n",
    "         \"E\": 0.0, \"tcool\": 0.0, \"dTdx\": 0.0, \"dTdt\": 0.0, \"vel_avg\": 0.0,\n",
    "         \"E_e\": 0.0, \"tcool_e\": 0.0, \"dTdx_e\": 0.0, \"dTdt_e\": 0.0, \"vel_avg_e\": 0.0}\n",
    "# flow6 = {\"area_plan\": 21.0e6, \"length\": 15.0e3, \"width\": 1.4e3, \"height\": None, \"E\": None, \"tcool\": None, \"dTdx\": None, \"dTdt\": None, \"vel_avg\": None}\n",
    "flows = [flow1, flow2, flow3] #, flow4, flow5] #, flow6]\n",
    "\n",
    "flows_df = pd.DataFrame.from_dict(flows)"
   ]
  },
  {
   "cell_type": "code",
   "execution_count": 18,
   "metadata": {},
   "outputs": [
    {
     "data": {
      "text/html": [
       "<div>\n",
       "<style scoped>\n",
       "    .dataframe tbody tr th:only-of-type {\n",
       "        vertical-align: middle;\n",
       "    }\n",
       "\n",
       "    .dataframe tbody tr th {\n",
       "        vertical-align: top;\n",
       "    }\n",
       "\n",
       "    .dataframe thead th {\n",
       "        text-align: right;\n",
       "    }\n",
       "</style>\n",
       "<table border=\"1\" class=\"dataframe\">\n",
       "  <thead>\n",
       "    <tr style=\"text-align: right;\">\n",
       "      <th></th>\n",
       "      <th>area_plan</th>\n",
       "      <th>length</th>\n",
       "      <th>width</th>\n",
       "      <th>height</th>\n",
       "      <th>E</th>\n",
       "      <th>tcool</th>\n",
       "      <th>dTdx</th>\n",
       "      <th>dTdt</th>\n",
       "      <th>vel_avg</th>\n",
       "      <th>E_e</th>\n",
       "      <th>tcool_e</th>\n",
       "      <th>dTdx_e</th>\n",
       "      <th>dTdt_e</th>\n",
       "      <th>vel_avg_e</th>\n",
       "    </tr>\n",
       "  </thead>\n",
       "  <tbody>\n",
       "    <tr>\n",
       "      <th>0</th>\n",
       "      <td>8.980000e+08</td>\n",
       "      <td>72000.0</td>\n",
       "      <td>12470.0</td>\n",
       "      <td>50.0</td>\n",
       "      <td>18877.097780</td>\n",
       "      <td>2.378544e+06</td>\n",
       "      <td>0.002777</td>\n",
       "      <td>0.000084</td>\n",
       "      <td>0.030276</td>\n",
       "      <td>67445.431258</td>\n",
       "      <td>665723.373144</td>\n",
       "      <td>0.009923</td>\n",
       "      <td>0.000300</td>\n",
       "      <td>0.108172</td>\n",
       "    </tr>\n",
       "    <tr>\n",
       "      <th>1</th>\n",
       "      <td>1.042000e+09</td>\n",
       "      <td>188000.0</td>\n",
       "      <td>5500.0</td>\n",
       "      <td>20.0</td>\n",
       "      <td>21904.160230</td>\n",
       "      <td>9.514174e+05</td>\n",
       "      <td>0.001056</td>\n",
       "      <td>0.000210</td>\n",
       "      <td>0.199129</td>\n",
       "      <td>78260.734266</td>\n",
       "      <td>266289.349258</td>\n",
       "      <td>0.003772</td>\n",
       "      <td>0.000751</td>\n",
       "      <td>0.711461</td>\n",
       "    </tr>\n",
       "    <tr>\n",
       "      <th>2</th>\n",
       "      <td>1.370000e+08</td>\n",
       "      <td>50000.0</td>\n",
       "      <td>2740.0</td>\n",
       "      <td>5.0</td>\n",
       "      <td>2879.913581</td>\n",
       "      <td>2.378544e+05</td>\n",
       "      <td>0.004000</td>\n",
       "      <td>0.000841</td>\n",
       "      <td>0.210213</td>\n",
       "      <td>10289.559112</td>\n",
       "      <td>66572.337314</td>\n",
       "      <td>0.014291</td>\n",
       "      <td>0.003004</td>\n",
       "      <td>0.751063</td>\n",
       "    </tr>\n",
       "  </tbody>\n",
       "</table>\n",
       "</div>"
      ],
      "text/plain": [
       "      area_plan    length    width  height             E         tcool  \\\n",
       "0  8.980000e+08   72000.0  12470.0    50.0  18877.097780  2.378544e+06   \n",
       "1  1.042000e+09  188000.0   5500.0    20.0  21904.160230  9.514174e+05   \n",
       "2  1.370000e+08   50000.0   2740.0     5.0   2879.913581  2.378544e+05   \n",
       "\n",
       "       dTdx      dTdt   vel_avg           E_e        tcool_e    dTdx_e  \\\n",
       "0  0.002777  0.000084  0.030276  67445.431258  665723.373144  0.009923   \n",
       "1  0.001056  0.000210  0.199129  78260.734266  266289.349258  0.003772   \n",
       "2  0.004000  0.000841  0.210213  10289.559112   66572.337314  0.014291   \n",
       "\n",
       "     dTdt_e  vel_avg_e  \n",
       "0  0.000300   0.108172  \n",
       "1  0.000751   0.711461  \n",
       "2  0.003004   0.751063  "
      ]
     },
     "execution_count": 18,
     "metadata": {},
     "output_type": "execute_result"
    }
   ],
   "source": [
    "flows_df"
   ]
  },
  {
   "cell_type": "markdown",
   "metadata": {},
   "source": [
    "## <b> Model parameters </b>\n",
    "<p> These parameters are assumed to be the same between different flows. This helps understand only the impact of effusion rate and thermal state on the final lava flow morphometry. </p>"
   ]
  },
  {
   "cell_type": "code",
   "execution_count": 4,
   "metadata": {},
   "outputs": [],
   "source": [
    "## environemnt\n",
    "g_venus = 8.87\n",
    "g_earth = 8.87\n",
    "Tatm_venus = 737\n",
    "Tatm_earth = 273\n",
    "theta_deg = 2               ## slope in degrees\n",
    "\n",
    "## eruption\n",
    "Tlava = 1400                ## K\n",
    "Tcrust = 900                ## K\n",
    "rho = 2600                  ## Basalt density from Davies et al., 2006\n",
    "phi_crystal0 = 0.25\n",
    "phi_crystal_max = 0.6       ## maximum crystal packing ratio\n",
    "eta0 = 1000                 ## Pas\n",
    "ys0 = 6500*phi_crystal0**2.85   ## yield strength\n",
    "\n",
    "## Other variables\n",
    "L = 100e3                    ## latent heat capacity in J/kg; value from Wittmann et al.2017\n",
    "C =  1200                    ## specific heat capacity in J/kg/K; value from Wittman et al. 2017\n",
    "k = 1                        ## thermal conductivity in W/m/K from Head and Wilson 1986, and Davies et al., 2005\n",
    "kappa = k/rho/C              ## thermal diffusivity in m2/s;\n",
    "# Cp = 1575                    ## from Keszthelyi and Self 1998 - use the formula below instead\n",
    "dphi_dT = 0.5e-2             ## change in crystallinity with temp; from Keszthelyi et al. 1996\n",
    "Cp = C + L*dphi_dT\n",
    "Tsolid = 1200                ## from table 3 of Harris and Rowland (2001)\n",
    "fcrust = 0.95\n",
    "emis_lava = 0.95\n",
    "sigmaB = 5.670374419e-8      ## Stefan-Boltzmann constant"
   ]
  },
  {
   "cell_type": "markdown",
   "metadata": {},
   "source": [
    "## <b> 1. Effusion rate, emplacement timescales, and cooling rates </b>\n",
    "<p>(i) The effusion rate is computed assuming that the observed flow area is representattive of the state of the flow when it solidfied (decreased in temperature by 200 K). Set <b><i> cooling timescale == advancement timescale </b></i>for computing effusion rate. <p>\n",
    "    \n",
    "<p>(ii) The duration of emplacement is assumed to be equal to the cooling timescale, i.e. the time taken for the flow to solidify (decrease in temperature by 200 K) is the time taken for the flow to be emplaced. </p>\n",
    "\n",
    "<p>(iii) Change in temperature per unit lengh is computer as per Kesthelyi and Self (1998) and Harris and Rwland (2006). dT/dx depends on flow velocity, flow thickness, and surface temperature. Flow velociy in turn relies on flow thickness, and surface temperature also relies on flow velocity and thickness. (I know, very interconnected and messy. We need to do better). </p>"
   ]
  },
  {
   "cell_type": "code",
   "execution_count": 5,
   "metadata": {},
   "outputs": [],
   "source": [
    "## assumed height for flows without known thickness\n",
    "h = 10.0 \n",
    "\n",
    "q_venus = flow.coupled_flux(Tcrust, Tatm_venus, k, 0.95) \n",
    "q_earth = flow.radiation_flux(Tcrust, Tatm_earth) + flow.convection_flux(Tcrust, Tatm_earth)\n",
    "\n",
    "for i in range(len(flows_df)):\n",
    "    if flows_df.iloc[i][\"height\"] == 0.0:\n",
    "        h = h\n",
    "    else:\n",
    "        h = flows_df.iloc[i][\"height\"]\n",
    "        \n",
    "    ## Effusion rate\n",
    "    flows_df.iloc[i][\"E\"] = q_venus * flows_df.iloc[i][\"area_plan\"] / (Tlava - Tsolid) / rho / Cp\n",
    "    flows_df.iloc[i][\"E_e\"] = q_earth * flows_df.iloc[i][\"area_plan\"] / (Tlava - Tsolid) / rho / Cp\n",
    "    \n",
    "    ## Emplacement aka cooling time\n",
    "    flows_df.iloc[i][\"tcool\"] = h * Cp * rho * (Tlava - Tsolid) / q_venus\n",
    "    flows_df.iloc[i][\"tcool_e\"] = h * Cp * rho * (Tlava - Tsolid) / q_earth\n",
    "    \n",
    "    ## Cooling rate per unit length\n",
    "    flows_df.iloc[i][\"dTdx\"] = q_venus / rho / Cp / (flows_df.iloc[i][\"E\"]/flows[i][\"width\"])\n",
    "    flows_df.iloc[i][\"dTdx_e\"] = q_earth / rho / Cp / (flows_df.iloc[i][\"E\"]/flows[i][\"width\"])\n",
    "    \n",
    "    ## Cooling rate per unit time\n",
    "    flows_df.iloc[i][\"dTdt\"] = q_venus / rho / Cp / h\n",
    "    flows_df.iloc[i][\"dTdt_e\"] = q_earth / rho / Cp / h\n",
    "    \n",
    "    ## Average advancement velocity\n",
    "    flows_df.iloc[i][\"vel_avg\"] = flows_df.iloc[i][\"E\"] / flows_df.iloc[i][\"width\"] / h\n",
    "    flows_df.iloc[i][\"vel_avg_e\"] = flows_df.iloc[i][\"E_e\"] / flows_df.iloc[i][\"width\"] / h\n"
   ]
  },
  {
   "cell_type": "code",
   "execution_count": 6,
   "metadata": {},
   "outputs": [
    {
     "data": {
      "image/png": "[encoded data removed]",
      "text/plain": [
       "<Figure size 504x360 with 1 Axes>"
      ]
     },
     "metadata": {
      "needs_background": "light"
     },
     "output_type": "display_data"
    }
   ],
   "source": [
    "xfield = flows_df[\"area_plan\"]/1e6\n",
    "xlabel = \"Flow area (sq. km)\"\n",
    "ylabel = \"Effusion rate (cu.m./s)\"\n",
    "fs = 20\n",
    "colors = [\"#997700\", \"#994455\", \"#004488\"]\n",
    "\n",
    "\n",
    "fig, ax = plt.subplots(1,1)\n",
    "fig.set_size_inches(7, 5)\n",
    "\n",
    "ax.scatter(xfield, flows_df[\"tcool\"], s = 60, color = colors, label = \"Venus\")\n",
    "ax.scatter(xfield, flows_df[\"tcool_e\"], s = 60, color = colors, marker = \"s\", label = \"Earth\")\n",
    "\n",
    "ax.set_xlabel(xlabel, fontsize = fs)\n",
    "ax.set_ylabel(ylabel, fontsize = fs)\n",
    "ax.tick_params(axis=\"both\", which=\"major\", labelsize=fs)\n",
    "plt.legend(fontsize=fs, loc=4)\n",
    "ax.xaxis.labelpad = 15\n",
    "ax.yaxis.labelpad = 15\n",
    "plt.semilogy()\n",
    "# plt.savefig(\"eff.png\", bbox_inches='tight')\n",
    "plt.show()"
   ]
  },
  {
   "cell_type": "markdown",
   "metadata": {},
   "source": [
    "## <b>2. NIR emission for every 500m of emplacement of the flow </b>"
   ]
  },
  {
   "cell_type": "code",
   "execution_count": 7,
   "metadata": {},
   "outputs": [],
   "source": [
    "def planck(wav, T):\n",
    "    h = 6.6260755e-34\n",
    "    c = 3.0e+8\n",
    "    k = 1.380658e-23\n",
    "    a = 2.0*h*c**2\n",
    "    b = h*c/(wav*k*T)\n",
    "    intensity = a/ ( (wav**5) * (np.exp(b) - 1.0) )\n",
    "    return intensity"
   ]
  },
  {
   "cell_type": "code",
   "execution_count": 16,
   "metadata": {},
   "outputs": [
    {
     "data": {
      "text/plain": [
       "3.755804519160031e+01"
      ]
     },
     "execution_count": 16,
     "metadata": {},
     "output_type": "execute_result"
    }
   ],
   "source": [
    "wav = 1.02e-6\n",
    "Tsurf = 950\n",
    "(planck(wav, Tsurf) - planck(wav, 737) ) * 1000e6 / 1e6/ 1e9"
   ]
  },
  {
   "cell_type": "code",
   "execution_count": 17,
   "metadata": {},
   "outputs": [
    {
     "data": {
      "image/png": "[encoded data removed]",
      "text/plain": [
       "<Figure size 648x432 with 1 Axes>"
      ]
     },
     "metadata": {
      "needs_background": "light"
     },
     "output_type": "display_data"
    }
   ],
   "source": [
    "delx = 500\n",
    "wav = 1.02e-6\n",
    "\n",
    "\n",
    "fig, ax = plt.subplots(1,1)\n",
    "fig.set_size_inches(9, 6)\n",
    "colors = [\"#997700\", \"#994455\", \"#004488\"]\n",
    "\n",
    "for i in range(len(flows_df)):\n",
    "    segments = np.arange(1*delx, flows_df.iloc[i][\"length\"], delx)\n",
    "    segments = np.append(segments, flows_df.iloc[i][\"length\"])\n",
    "    duration = segments / flows_df.iloc[i][\"vel_avg\"]\n",
    "    Tcore = Tlava - segments*flows_df.iloc[i][\"dTdx\"]\n",
    "    Tsurf = Tcrust*fcrust + Tcore*(1-fcrust)\n",
    "    total_power_output = flows_df.iloc[i][\"width\"]*segments * emis_lava * sigmaB * Tsurf\n",
    "    thermal_emission = flows[i][\"width\"] *segments * planck(wav, Tsurf)/1e6/1e9\n",
    "    thermal_emission_excess = flows_df.iloc[i][\"width\"] *segments * (planck(wav, Tsurf) - planck(wav, Tatm_venus))/1e6/1e9\n",
    "    cum_thermal_emission = np.cumsum(thermal_emission)\n",
    "    cum_thermal_emission_excess = np.cumsum(thermal_emission_excess)\n",
    "    \n",
    "    Tcore_e = Tlava - segments*flows_df.iloc[i][\"dTdx_e\"]\n",
    "    Tsurf_e = Tcrust*fcrust + Tcore_e*(1-fcrust)\n",
    "    \n",
    "    ax.plot(duration/24/3600,cum_thermal_emission_excess, color = colors[i])\n",
    "    # ax.plot(segments/1e3, Tsurf_e, color = colors[i], linestyle = \"--\")\n",
    "    \n",
    "\n",
    "ax.set_xlabel(\"Flow length (km)\", fontsize = fs)\n",
    "ax.set_ylabel(\"Excess thermal emission\", fontsize = fs)\n",
    "plt.xticks(fontsize = fs)\n",
    "plt.yticks(fontsize = fs)\n",
    "ax.tick_params(axis=\"both\", which=\"major\", labelsize=fs)\n",
    "# plt.legend(fontsize=fs, loc=4)\n",
    "ax.xaxis.labelpad = 15\n",
    "ax.yaxis.labelpad = 15\n",
    "plt.semilogy()\n",
    "# plt.savefig(\"emission.png\", bbox_inches='tight')\n",
    "plt.show()"
   ]
  },
  {
   "cell_type": "markdown",
   "metadata": {
    "tags": []
   },
   "source": [
    "## flowgo type modeling ##"
   ]
  },
  {
   "cell_type": "code",
   "execution_count": 8,
   "metadata": {},
   "outputs": [],
   "source": [
    "effusion_rate = 10          ## m3/s"
   ]
  },
  {
   "cell_type": "code",
   "execution_count": 6,
   "metadata": {},
   "outputs": [
    {
     "name": "stdout",
     "output_type": "stream",
     "text": [
      "0.11564621286044734\n"
     ]
    }
   ],
   "source": [
    "## compute intial conditions ##\n",
    "Tsurf = Tlava\n",
    "Tcore = Tlava\n",
    "eta = eta0\n",
    "ys = ys0\n",
    "phi_crystal = phi0_crystal\n",
    "\n",
    "## Emplacement\n",
    "wb = flow.levee_width(rho, g, eta, theta_deg, ys, effusion_rate)\n",
    "wc = flow.channel_width(rho, g, eta, theta_deg, ys, effusion_rate, wb)\n",
    "h = flow.channel_thickness(rho, g, eta, theta_deg, ys, effusion_rate)\n",
    "hb = flow.levee_thickness(rho, g, eta, theta_deg, ys, effusion_rate)\n",
    "vel = flow.velocity_Bingham(rho, g, h, eta, theta_deg, ys)\n",
    "\n",
    "## surface flux\n",
    "qflynn = flow.flynn_flux(Tsurf)\n",
    "qcoupled = flow.coupled_flux(Tsurf, 750, k, 0.95) \n",
    "print(vel)"
   ]
  },
  {
   "cell_type": "code",
   "execution_count": null,
   "metadata": {},
   "outputs": [],
   "source": [
    "## Running iterative model ##\n",
    "\n",
    "## set model parameters\n",
    "t = 0\n",
    "dt  = 60\n",
    "flow_length = 0.0\n",
    "\n",
    "while (vel>=1e-4) and (Tcore>=Tsolid):\n",
    "    ## Emplacement\n",
    "    hb = flow.levee_thickness(rho, g, eta, theta_deg, ys, effusion_rate)\n",
    "    wb = flow.levee_width(rho, g, eta, theta_deg, ys, effusion_rate)\n",
    "    wc = flow.channel_width(rho, g, eta, theta_deg, ys, effusion_rate, wb)\n",
    "    h = flow.channel_thickness(rho, g, eta, theta_deg, ys, effusion_rate)\n",
    "    l = vel * dt\n",
    "    \n",
    "    ## heat loss\n",
    "    qcoupled = flow.coupled_flux(Tsurf, 750, k, 0.95)  \n",
    "    Told = Tcore\n",
    "    \n",
    "    ## new variables\n",
    "    # print(qcoupled, l, wc, h, rho, vel)\n",
    "    print(qcoupled * l / rho / C / vel / h)\n",
    "    Tcore = Told - qcoupled * l / rho / C / vel / h\n",
    "    flow_length += l\n",
    "\n",
    "    print(\"viscosity = \", eta)\n",
    "    print(\"flow length = \", flow_length, \"width = \", wc, \" height = \", h, \" levee width = \", wb )\n",
    "    eta = flow.viscosity(Tlava, Tcore, phi_crystal, phi_crystal_max, eta0)\n",
    "    ys = flow.yield_strength(Tlava, Tcore, phi_crystal)\n",
    "    vel = flow.velocity_Bingham(rho, g, h, eta, theta_deg, ys)\n",
    "    print(\"velocity = \", vel)\n",
    "    t+=dt\n",
    "    print(\"Tcore=\", Tcore, \" velocity = \", vel,\"\\n\")\n",
    "    "
   ]
  },
  {
   "cell_type": "code",
   "execution_count": null,
   "metadata": {},
   "outputs": [],
   "source": [
    "## comparing coupled heat loss implementations\n",
    "X = np.arange(1500, 1000, -50)\n",
    "flynn_2023 = flynn_flux(X) / 1e3\n",
    "this_study =  coupled_flux(X, 737, k, 0.95) / 1e3\n",
    "rad = radiative_flux(X, 737, 0.95) / 1e3\n",
    "conv = convection_flux(X, 737, 0.95) / 1e3\n",
    "plt.figure(figsize = (8,8))\n",
    "plt.plot(X, flynn_2023, label = \"Flynn et al. 2023\")\n",
    "plt.plot(X, this_study, label = \"this study\")\n",
    "plt.plot(X, rad, label = \"radiation only\")\n",
    "plt.plot(X, conv, label = \"convection only\")\n",
    "plt.plot(X, conv+rad, label = \"convection + radiation\")\n",
    "plt.xlabel(\"Surface temperature K\")\n",
    "plt.ylabel(\"Surface heat flux kW/m2\")\n",
    "plt.legend()\n",
    "plt.show()"
   ]
  },
  {
   "cell_type": "code",
   "execution_count": null,
   "metadata": {},
   "outputs": [],
   "source": [
    "## calculation of new variables\n",
    "eta = viscosity(Tlava, Tcurrent, phi_crystal, phi_crystal_max, eta0)\n",
    "ys = yield_strength()\n",
    "vel = velocity_Bingham(rho, g, h, eta, theta_deg, yield_strength)"
   ]
  },
  {
   "cell_type": "code",
   "execution_count": null,
   "metadata": {},
   "outputs": [],
   "source": []
  }
 ],
 "metadata": {
  "kernelspec": {
   "display_name": "Python 3 (ipykernel)",
   "language": "python",
   "name": "python3"
  },
  "language_info": {
   "codemirror_mode": {
    "name": "ipython",
    "version": 3
   },
   "file_extension": ".py",
   "mimetype": "text/x-python",
   "name": "python",
   "nbconvert_exporter": "python",
   "pygments_lexer": "ipython3",
   "version": "3.9.12"
  }
 },
 "nbformat": 4,
 "nbformat_minor": 4
}
