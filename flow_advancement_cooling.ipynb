{
 "cells": [
  {
   "cell_type": "code",
   "execution_count": 1,
   "metadata": {},
   "outputs": [],
   "source": [
    "import numpy as np\n",
    "import matplotlib.pyplot as plt"
   ]
  },
  {
   "cell_type": "code",
   "execution_count": null,
   "metadata": {},
   "outputs": [],
   "source": [
    "def velocity_Newtonian(rho, eta, h, theta, C = 3):\n",
    "    ## Jeffreys equation\n",
    "    ## C = 3 for a filled channel\n",
    "    ## C=8 for a wide flow with a moving top\n",
    "    ## C = 12 for a sheet flow\n",
    "    g = 8.87\n",
    "    vel = rho*g*h**2*np.sin(theta) / C / eta\n",
    "    return vel\n",
    "\n",
    "def velocity_Bingham():\n",
    "    g = 8.87\n",
    "    c1 = 4/3\n",
    "    c2 = 1/3\n",
    "    c3 = 4\n",
    "    vel = rho*g*h**2*np.sin(theta) / (3*eta) * (1 - c1*(tau/tau_b) + c2*(tau/tau_b)**c3)\n",
    "    return vel\n",
    "\n",
    "def levee_wdith():\n",
    "    pass\n",
    "\n",
    "def channel_width():\n",
    "    pass\n",
    "\n",
    "def cooling_timescale():\n",
    "    pass\n",
    "\n",
    "def advancement_timescale():\n",
    "    pass\n",
    "\n",
    "def flow_length():\n",
    "    pass"
   ]
  },
  {
   "cell_type": "code",
   "execution_count": null,
   "metadata": {},
   "outputs": [],
   "source": [
    "def radiative_flux():\n",
    "    pass\n",
    "\n",
    "def conductive_flux():\n",
    "    pass"
   ]
  }
 ],
 "metadata": {
  "kernelspec": {
   "display_name": "Python 3 (ipykernel)",
   "language": "python",
   "name": "python3"
  },
  "language_info": {
   "codemirror_mode": {
    "name": "ipython",
    "version": 3
   },
   "file_extension": ".py",
   "mimetype": "text/x-python",
   "name": "python",
   "nbconvert_exporter": "python",
   "pygments_lexer": "ipython3",
   "version": "3.9.12"
  }
 },
 "nbformat": 4,
 "nbformat_minor": 4
}
