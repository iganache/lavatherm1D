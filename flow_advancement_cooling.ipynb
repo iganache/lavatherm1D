{
 "cells": [
  {
   "cell_type": "code",
   "execution_count": 1,
   "metadata": {},
   "outputs": [],
   "source": [
    "import numpy as np\n",
    "import matplotlib.pyplot as plt"
   ]
  },
  {
   "cell_type": "code",
   "execution_count": null,
   "metadata": {},
   "outputs": [],
   "source": [
    "def velocity_Newtonian():\n",
    "    pass\n",
    "\n",
    "def velocity_Bingham():\n",
    "    pass\n",
    "\n",
    "def levee_wdith():\n",
    "    pass\n",
    "\n",
    "def channel_width():\n",
    "    pass\n",
    "\n",
    "def cooling_timescale():\n",
    "    pass\n",
    "\n",
    "def advancement_timescale():\n",
    "    pass\n",
    "\n",
    "def flow_length():\n",
    "    pass"
   ]
  },
  {
   "cell_type": "code",
   "execution_count": null,
   "metadata": {},
   "outputs": [],
   "source": [
    "def radiative_flux():\n",
    "    pass\n",
    "\n",
    "def conductive_flux():\n",
    "    pass"
   ]
  }
 ],
 "metadata": {
  "kernelspec": {
   "display_name": "py36",
   "language": "python",
   "name": "py36"
  },
  "language_info": {
   "codemirror_mode": {
    "name": "ipython",
    "version": 3
   },
   "file_extension": ".py",
   "mimetype": "text/x-python",
   "name": "python",
   "nbconvert_exporter": "python",
   "pygments_lexer": "ipython3",
   "version": "3.6.11"
  }
 },
 "nbformat": 4,
 "nbformat_minor": 4
}
