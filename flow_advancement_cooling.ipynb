{
 "cells": [
  {
   "cell_type": "code",
   "execution_count": 1,
   "metadata": {},
   "outputs": [],
   "source": [
    "import numpy as np\n",
    "import matplotlib.pyplot as plt\n",
    "import LavaFlow as flow"
   ]
  },
  {
   "cell_type": "markdown",
   "metadata": {},
   "source": [
    "## compute effusion rate from area ##"
   ]
  },
  {
   "cell_type": "code",
   "execution_count": 2,
   "metadata": {},
   "outputs": [],
   "source": [
    "## set variables ##\n",
    "## environemnt\n",
    "g = 8.87\n",
    "theta_deg = 2\n",
    "Tatm = 737\n",
    "\n",
    "## eruption\n",
    "\n",
    "Tlava = 1400                ## K\n",
    "Tcrust = 800\n",
    "rho = 2600                  ## Basalt density from Davies et al., 2006\n",
    "phi0_crystal = 0.25\n",
    "phi_crystal_max = 0.6       ## maximum crystal packing ratio\n",
    "eta0 = 1000                 ## Pas\n",
    "ys0 = 6500*phi0_crystal**2.85  \n",
    "\n",
    "## Other variables\n",
    "L = 100e3                    ## latent heat capacity in J/kg; value from Wittmann et al.2017\n",
    "C =  1200                    ## specific heat capacity in J/kg/K; value from Wittman et al. 2017\n",
    "k = 1                        ## thermal conductivity in W/m/K from Head and Wilson 1986, and Davies et al., 2005\n",
    "kappa = k/rho/C              ## thermal diffusivity in m2/s;\n",
    "Cp = 1575\n",
    "Tsolid = 1253                ## from table 3 of Harris and Rowland (2001)"
   ]
  },
  {
   "cell_type": "code",
   "execution_count": 8,
   "metadata": {},
   "outputs": [
    {
     "name": "stdout",
     "output_type": "stream",
     "text": [
      "0.2762580691612889\n",
      "0.2762580691612889\n",
      "0.2762580691612889\n",
      "0.2762580691612889\n",
      "0.2762580691612889\n",
      "0.2762580691612889\n",
      "0.276258069161289\n",
      "0.2762580691612889\n",
      "0.276258069161289\n",
      "0.2762580691612889\n"
     ]
    }
   ],
   "source": [
    "## emplacement and velocity\n",
    "l = 30e3\n",
    "w = 100 \n",
    "\n",
    "area_plan = w*l\n",
    "qvenus = flow.coupled_flux(Tcrust, Tatm, k, 0.95) \n",
    "qearth = flow.coupled_flux(Tcrust, 300, k, 0.95) \n",
    "E = qvenus * area_plan / (Tlava - Tsolid) / rho / Cp\n",
    "heights = np.arange(5, 55, 5)\n",
    "for h in heights:\n",
    "    vel = E/w/h\n",
    "    ## add velocity base don jeffreys equations here ##\n",
    "    vel_Jeffreys = flow.velocity_Newtonian(rho, g, h, eta0, theta_deg)\n",
    "    ## cooling rate\n",
    "    dTdx1 = qvenus / rho / Cp / vel / 5 \n",
    "    dTdx2 = qearth / rho / Cp / vel / 5 \n",
    "    print(dTdx1/dTdx2)\n",
    "plt.show()"
   ]
  },
  {
   "cell_type": "code",
   "execution_count": null,
   "metadata": {},
   "outputs": [],
   "source": [
    "plt.figure(figsize = (8,8))\n",
    "plt.plot()"
   ]
  },
  {
   "cell_type": "markdown",
   "metadata": {
    "tags": []
   },
   "source": [
    "## flowgo type modeling ##"
   ]
  },
  {
   "cell_type": "code",
   "execution_count": 8,
   "metadata": {},
   "outputs": [],
   "source": [
    "effusion_rate = 10          ## m3/s"
   ]
  },
  {
   "cell_type": "code",
   "execution_count": 6,
   "metadata": {},
   "outputs": [
    {
     "name": "stdout",
     "output_type": "stream",
     "text": [
      "0.11564621286044734\n"
     ]
    }
   ],
   "source": [
    "## compute intial conditions ##\n",
    "Tsurf = Tlava\n",
    "Tcore = Tlava\n",
    "eta = eta0\n",
    "ys = ys0\n",
    "phi_crystal = phi0_crystal\n",
    "\n",
    "## Emplacement\n",
    "wb = flow.levee_width(rho, g, eta, theta_deg, ys, effusion_rate)\n",
    "wc = flow.channel_width(rho, g, eta, theta_deg, ys, effusion_rate, wb)\n",
    "h = flow.channel_thickness(rho, g, eta, theta_deg, ys, effusion_rate)\n",
    "hb = flow.levee_thickness(rho, g, eta, theta_deg, ys, effusion_rate)\n",
    "vel = flow.velocity_Bingham(rho, g, h, eta, theta_deg, ys)\n",
    "\n",
    "## surface flux\n",
    "qflynn = flow.flynn_flux(Tsurf)\n",
    "qcoupled = flow.coupled_flux(Tsurf, 750, k, 0.95) \n",
    "print(vel)"
   ]
  },
  {
   "cell_type": "code",
   "execution_count": null,
   "metadata": {},
   "outputs": [],
   "source": [
    "## Running iterative model ##\n",
    "\n",
    "## set model parameters\n",
    "t = 0\n",
    "dt  = 60\n",
    "flow_length = 0.0\n",
    "\n",
    "while (vel>=1e-4) and (Tcore>=Tsolid):\n",
    "    ## Emplacement\n",
    "    hb = flow.levee_thickness(rho, g, eta, theta_deg, ys, effusion_rate)\n",
    "    wb = flow.levee_width(rho, g, eta, theta_deg, ys, effusion_rate)\n",
    "    wc = flow.channel_width(rho, g, eta, theta_deg, ys, effusion_rate, wb)\n",
    "    h = flow.channel_thickness(rho, g, eta, theta_deg, ys, effusion_rate)\n",
    "    l = vel * dt\n",
    "    \n",
    "    ## heat loss\n",
    "    qcoupled = flow.coupled_flux(Tsurf, 750, k, 0.95)  \n",
    "    Told = Tcore\n",
    "    \n",
    "    ## new variables\n",
    "    # print(qcoupled, l, wc, h, rho, vel)\n",
    "    print(qcoupled * l / rho / C / vel / h)\n",
    "    Tcore = Told - qcoupled * l / rho / C / vel / h\n",
    "    flow_length += l\n",
    "\n",
    "    print(\"viscosity = \", eta)\n",
    "    print(\"flow length = \", flow_length, \"width = \", wc, \" height = \", h, \" levee width = \", wb )\n",
    "    eta = flow.viscosity(Tlava, Tcore, phi_crystal, phi_crystal_max, eta0)\n",
    "    ys = flow.yield_strength(Tlava, Tcore, phi_crystal)\n",
    "    vel = flow.velocity_Bingham(rho, g, h, eta, theta_deg, ys)\n",
    "    print(\"velocity = \", vel)\n",
    "    t+=dt\n",
    "    print(\"Tcore=\", Tcore, \" velocity = \", vel,\"\\n\")\n",
    "    "
   ]
  },
  {
   "cell_type": "code",
   "execution_count": null,
   "metadata": {},
   "outputs": [],
   "source": [
    "## comparing coupled heat loss implementations\n",
    "X = np.arange(1500, 1000, -50)\n",
    "flynn_2023 = flynn_flux(X) / 1e3\n",
    "this_study =  coupled_flux(X, 737, k, 0.95) / 1e3\n",
    "rad = radiative_flux(X, 737, 0.95) / 1e3\n",
    "conv = convection_flux(X, 737, 0.95) / 1e3\n",
    "plt.figure(figsize = (8,8))\n",
    "plt.plot(X, flynn_2023, label = \"Flynn et al. 2023\")\n",
    "plt.plot(X, this_study, label = \"this study\")\n",
    "plt.plot(X, rad, label = \"radiation only\")\n",
    "plt.plot(X, conv, label = \"convection only\")\n",
    "plt.plot(X, conv+rad, label = \"convection + radiation\")\n",
    "plt.xlabel(\"Surface temperature K\")\n",
    "plt.ylabel(\"Surface heat flux kW/m2\")\n",
    "plt.legend()\n",
    "plt.show()"
   ]
  },
  {
   "cell_type": "code",
   "execution_count": null,
   "metadata": {},
   "outputs": [],
   "source": [
    "## calculation of new variables\n",
    "eta = viscosity(Tlava, Tcurrent, phi_crystal, phi_crystal_max, eta0)\n",
    "ys = yield_strength()\n",
    "vel = velocity_Bingham(rho, g, h, eta, theta_deg, yield_strength)"
   ]
  },
  {
   "cell_type": "code",
   "execution_count": null,
   "metadata": {},
   "outputs": [],
   "source": []
  }
 ],
 "metadata": {
  "kernelspec": {
   "display_name": "Python 3 (ipykernel)",
   "language": "python",
   "name": "python3"
  },
  "language_info": {
   "codemirror_mode": {
    "name": "ipython",
    "version": 3
   },
   "file_extension": ".py",
   "mimetype": "text/x-python",
   "name": "python",
   "nbconvert_exporter": "python",
   "pygments_lexer": "ipython3",
   "version": "3.9.12"
  }
 },
 "nbformat": 4,
 "nbformat_minor": 4
}
