{
 "cells": [
  {
   "cell_type": "code",
   "execution_count": 4,
   "id": "5597968d-63f1-4b91-89cd-5c1c8d6d3554",
   "metadata": {},
   "outputs": [],
   "source": [
    "import numpy as np\n",
    "import matplotlib.pyplot as plt\n",
    "from scipy.special import erf\n",
    "import math"
   ]
  },
  {
   "cell_type": "markdown",
   "id": "fbb59029-d874-4ffc-bffd-61d1d9ebebfa",
   "metadata": {},
   "source": [
    "### <b> Temperature profile through lava before solidifcation - test run </b>"
   ]
  },
  {
   "cell_type": "markdown",
   "id": "1edeed02-e55f-4219-8d7b-b14dc416b675",
   "metadata": {},
   "source": [
    "### Step 1: Choose a value for surface temperature and compute lambda"
   ]
  },
  {
   "cell_type": "code",
   "execution_count": 5,
   "id": "588e3307-46be-4e12-bd66-c9cd1f713650",
   "metadata": {},
   "outputs": [
    {
     "name": "stdout",
     "output_type": "stream",
     "text": [
      "0.7431672330840736\n"
     ]
    }
   ],
   "source": [
    "L = 320e3                 ## latent heat capacity in J/kg; value from Wittmann et al.2017\n",
    "c =  1200                 ## specific heat capacity in J/kg/K; value from Wittman et al. 2017\n",
    "k = 3                     ## thermal conductivity in W/m/K from Head and Wilson 1986, and Davies et al., 2005\n",
    "kappa = 5e-7              ## thermal diffusivity in m2/s; value from Wittman et al. 2017 - Table 2 Peck (1978)\n",
    "\n",
    "T_magma = 1100+273        ## magma liquidus emplacement temperature in K\n",
    "T_surf = 737          ## venus atmospheric temperature\n",
    "\n",
    "RHS = L * np.pi ** 0.5 / c / (T_magma - T_surf)\n",
    "print(RHS)"
   ]
  },
  {
   "cell_type": "code",
   "execution_count": 6,
   "id": "cd1ede59-cba7-4958-b0bd-a910b85a2c15",
   "metadata": {},
   "outputs": [],
   "source": [
    "lambda_up = np.arange(1.5, 0, -1e-5)\n",
    "lambda_down = np.arange(1.5, 0, -1e-5)\n",
    "def LHS_up(lambda_0):\n",
    "    LHS = np.exp(-1*lambda_0**2) / lambda_0 / erf(lambda_0)\n",
    "    return LHS\n",
    "\n",
    "def LHS_down(lambda_0):\n",
    "    LHS = np.exp(-1*lambda_0**2) / lambda_0 / (1+erf(lambda_0))\n",
    "    return LHS\n",
    "\n",
    "def temp_lower_crust(Tlava, Tsub, l, kappa, thickness, time):\n",
    "    m = (Tlava - Tsub) / (1+erf(l))\n",
    "    n = 1 + erf(thickness / 2 / (kappa*time)**0.5)\n",
    "    return ((m*n) + Tsub)\n",
    "\n",
    "def temp_upper_crust(Tlava, Tsurf, l, kappa, thickness, time):\n",
    "    m = (Tlava - Tsurf) / erf(l)\n",
    "    n = erf(thickness / 2 / (kappa*time)**0.5)\n",
    "    return (m*n) + Tsurf"
   ]
  },
  {
   "cell_type": "code",
   "execution_count": 7,
   "id": "81a97e88-aba7-419f-91e5-b2d06f99a361",
   "metadata": {},
   "outputs": [
    {
     "name": "stdout",
     "output_type": "stream",
     "text": [
      "lambda_up =  0.8492599999957369\n",
      "minimum =  4.162498710935658e-06\n"
     ]
    }
   ],
   "source": [
    "solution_up = RHS - LHS_up(lambda_up) \n",
    "print(\"lambda_up = \", lambda_up[np.argmin(np.abs(solution_up))])\n",
    "print(\"minimum = \", LHS_up(lambda_up[np.argmin(np.abs(solution_up))]) - RHS)\n",
    "l_up = lambda_up[np.argmin(np.abs(solution_up))]"
   ]
  },
  {
   "cell_type": "code",
   "execution_count": 8,
   "id": "0ff8cfe7-a265-49b3-b422-d3141c5d150d",
   "metadata": {},
   "outputs": [
    {
     "name": "stdout",
     "output_type": "stream",
     "text": [
      "lambda_up =  0.5926399999940557\n",
      "minimum =  3.35863379052892e-06\n"
     ]
    }
   ],
   "source": [
    "solution_down = RHS - LHS_down(lambda_down) \n",
    "print(\"lambda_up = \", lambda_down[np.argmin(np.abs(solution_down))])\n",
    "print(\"minimum = \", LHS_down(lambda_down[np.argmin(np.abs(solution_down))]) - RHS)\n",
    "l_down = lambda_down[np.argmin(np.abs(solution_down))]"
   ]
  },
  {
   "cell_type": "markdown",
   "id": "0e86f829-cf1b-4fe0-b4e7-1bcf05b9c72d",
   "metadata": {
    "jp-MarkdownHeadingCollapsed": true,
    "tags": []
   },
   "source": [
    "### Proper iteration - doesn't work for lambda_up"
   ]
  },
  {
   "cell_type": "code",
   "execution_count": null,
   "id": "42ae74c1-ba94-49bd-80fb-f304f517152e",
   "metadata": {},
   "outputs": [],
   "source": [
    "lambda_init = 1.7\n",
    "while True:\n",
    "    lambda_final = c * (T_magma - T_surf) * np.exp(-1*lambda_init**2) / (L * np.pi**0.5 * math.erf(lambda_init))\n",
    "    temp = lambda_init\n",
    "    lambda_init = lambda_final\n",
    "    print(temp, lambda_init)\n",
    "    if (abs(temp - lambda_init) <= 0.001):\n",
    "        lambda_upper = lambda_final\n",
    "        break"
   ]
  },
  {
   "cell_type": "code",
   "execution_count": null,
   "id": "8195e370-bc6f-4d6d-80bb-67c859d3749b",
   "metadata": {},
   "outputs": [],
   "source": [
    "lambda_init = 0.5\n",
    "while True:\n",
    "    lambda_final = c * (T_magma - T_surf) * np.exp(-1*lambda_init**2) / (L * np.pi**0.5 * (1+math.erf(lambda_init)))\n",
    "    temp = lambda_init\n",
    "    lambda_init = lambda_final\n",
    "    if (abs(temp - lambda_init) <= 0.0001):\n",
    "        lambda_lower = lambda_final\n",
    "        break\n",
    "        \n",
    "print(lambda_lower)"
   ]
  },
  {
   "cell_type": "markdown",
   "id": "d79930be-8d3c-44f6-b7ae-3038a2ecd3fb",
   "metadata": {},
   "source": [
    "### Step 2: Compute time t by equating surface temperature gradient to heat flux through the surface"
   ]
  },
  {
   "cell_type": "code",
   "execution_count": 9,
   "id": "167d75ce-1653-477c-a486-bbac9feff38c",
   "metadata": {},
   "outputs": [
    {
     "name": "stdout",
     "output_type": "stream",
     "text": [
      "surface heat flux =  8641.73797127113\n",
      "time in hours =  14.529638264105307\n"
     ]
    }
   ],
   "source": [
    "surface_heat_loss = 1.07 * 1e-13 * T_surf**4.85 * 1000                    ## heat flux in W/m2 using eq 8 of Flynn et al. 2023\n",
    "t_sqroot = k * (T_magma - T_surf) / erf(l_up) / (np.pi*kappa)**0.5 / surface_heat_loss\n",
    "t = t_sqroot**2\n",
    "print(\"surface heat flux = \", surface_heat_loss)\n",
    "print(\"time in hours = \", t/3600)"
   ]
  },
  {
   "cell_type": "markdown",
   "id": "752e061a-ce25-4560-bbfe-b8b6044f2fec",
   "metadata": {},
   "source": [
    "### Step 3: Compute crustal thickneess from lambda and time t"
   ]
  },
  {
   "cell_type": "code",
   "execution_count": 10,
   "id": "3bd030f5-09f8-4ab3-a13f-443ad59987d4",
   "metadata": {},
   "outputs": [
    {
     "name": "stdout",
     "output_type": "stream",
     "text": [
      "upper_crust_thickness = 0.2746846043808657\n",
      "basal_crust_thickness = 0.19168344669413445\n"
     ]
    }
   ],
   "source": [
    "def crustal_thickness(l, kappa, t):\n",
    "    return 2 * l * (kappa * t)**0.5\n",
    "\n",
    "upper_crust_thickness = crustal_thickness(l_up, kappa, t) \n",
    "basal_crust_thickness = crustal_thickness(l_down, kappa, t)\n",
    "print(\"upper_crust_thickness =\", upper_crust_thickness)\n",
    "print(\"basal_crust_thickness =\", basal_crust_thickness)"
   ]
  },
  {
   "cell_type": "markdown",
   "id": "13a53fd9-f22d-4db1-b7c4-16777d092a72",
   "metadata": {},
   "source": [
    "### Step 4: Calculation of temperature profile for a 5 m thick lava flow before solidification"
   ]
  },
  {
   "cell_type": "code",
   "execution_count": 11,
   "id": "240d147f-0836-4fe3-8ba1-9cc39003fc52",
   "metadata": {},
   "outputs": [],
   "source": [
    "T_b = 476 + 273\n",
    "lava_thickness = 5\n",
    "y_down = np.linspace(0, basal_crust_thickness, 50)\n",
    "# T_base = T_base + ( ((T_magma -T_base) / (erf(l_down) + 1)) * (1 + erf(y_down / 2*(kappa*t)**0.5)) )\n",
    "T_base = T_b + (1 + erf(y_down / 2 * (kappa*3.156e+7)**0.5)) * (T_magma-T_b) / (erf(l_down) + 1)\n",
    "\n",
    "y_up = np.linspace(upper_crust_thickness, 0, 50)\n",
    "# T_upper = T_surf + ( ((T_magma -T_surf) / erf(l_up)) * ( erf((lava_thickness-y_up) / 2*(kappa*t)**0.5)) )\n",
    "T_upper = T_surf + (erf((lava_thickness-y_up) / 2*(kappa*3.156e+7)**0.5) * (T_magma-T_surf) / erf(l_up))  "
   ]
  },
  {
   "cell_type": "markdown",
   "id": "b02289f7-72f4-406b-8cb8-ad37a6a982fd",
   "metadata": {},
   "source": [
    "### <b> Temperature profile through lava before solidifcation - complete workflow </b>"
   ]
  },
  {
   "cell_type": "code",
   "execution_count": 19,
   "id": "4d27981d-e7d4-41cb-9c04-72b49ea13180",
   "metadata": {},
   "outputs": [],
   "source": [
    "## Initial variables\n",
    "\n",
    "## All tempertaures in Kelvin\n",
    "Tlava = 1473                                   ## Magma liquidus temperature \n",
    "Tsub = 737                                     ## Substrate temperature\n",
    "Tsurf = np.linspace(1400, Tsub, 3)             ## Surface temperatures - rangomg from liquidus to ambient\n",
    "\n",
    "## Other variables\n",
    "L = 320e3                 ## latent heat capacity in J/kg; value from Wittmann et al.2017\n",
    "c =  1200                 ## specific heat capacity in J/kg/K; value from Wittman et al. 2017\n",
    "k = 3                     ## thermal conductivity in W/m/K from Head and Wilson 1986, and Davies et al., 2005\n",
    "kappa = 5e-7              ## thermal diffusivity in m2/s; value from Wittman et al. 2017 - Table 2 Peck (1978)\n",
    "\n",
    "lava_thickness = 5       ## thickness of lava flow in meters\n",
    "\n",
    "## Predefined set of lambdasfor solcing the transcendental Stefan problem\n",
    "lambdas = np.arange(1.5, 0, -1e-5)"
   ]
  },
  {
   "cell_type": "code",
   "execution_count": 20,
   "id": "10972d1e-62ac-4cd9-b720-5acd419d8508",
   "metadata": {},
   "outputs": [],
   "source": [
    "## Functions\n",
    "\n",
    "def Stefan_lambda_upper(lambda_0):\n",
    "    LHS = np.exp(-1*lambda_0**2) / lambda_0 / erf(lambda_0)\n",
    "    return LHS\n",
    "\n",
    "def Stefan_lambda_lower(lambda_0):\n",
    "    LHS = np.exp(-1*lambda_0**2) / lambda_0 / (1+erf(lambda_0))\n",
    "    return LHS\n",
    "\n",
    "def crustal_thickness(l, kappa, t):\n",
    "    return 2 * l * (kappa * t)**0.5\n",
    "\n",
    "def temp_lower_crust(Tlava, Tsub, l, kappa, thickness, time):\n",
    "    m = (Tlava - Tsub) / (1+erf(l))\n",
    "    n = 1 + erf(thickness / 2 / (kappa*time)**0.5)\n",
    "    return ((m*n) + Tsub)\n",
    "\n",
    "def temp_upper_crust(Tlava, Tsurf, l, kappa, thickness, time):\n",
    "    m = (Tlava - Tsurf) / erf(l)\n",
    "    n = erf(thickness / 2 / (kappa*time)**0.5)\n",
    "    return (m*n) + Tsurf"
   ]
  },
  {
   "cell_type": "markdown",
   "id": "016ab1ee-2eb2-4785-8a47-9c8ef8f90e69",
   "metadata": {},
   "source": [
    "### Workflow"
   ]
  },
  {
   "cell_type": "code",
   "execution_count": 21,
   "id": "4d38cd6e-3960-4866-9c04-805074f21d70",
   "metadata": {},
   "outputs": [
    {
     "name": "stdout",
     "output_type": "stream",
     "text": [
      "time in hours =  0.0015260072492577906\n",
      "time in hours =  0.19638815093540354\n",
      "time in hours =  18.407239184030267\n",
      "time in hours =  291.58320716580045\n",
      "upper_crust_thickness = 1.2898232875078555\n",
      "basal_crust_thickness = 1.2898232875078555\n",
      "time in hours =  564.7591751475707\n",
      "upper_crust_thickness = 1.7950667689288742\n",
      "basal_crust_thickness = 1.7950667689288742\n",
      "time in hours =  837.9351431293408\n",
      "upper_crust_thickness = 2.1865235642059573\n",
      "basal_crust_thickness = 2.1865235642059573\n",
      "time in hours =  1111.111111111111\n",
      "upper_crust_thickness = 2.517837542166512\n",
      "basal_crust_thickness = 2.517837542166512\n",
      "lava solidification occured at or before  1111.111111111111  hours\n"
     ]
    },
    {
     "data": {
      "image/png": "[encoded data removed]",
      "text/plain": [
       "<Figure size 576x576 with 1 Axes>"
      ]
     },
     "metadata": {
      "needs_background": "light"
     },
     "output_type": "display_data"
    }
   ],
   "source": [
    "colors = [\"#000000\",\"#004949\",\"#009292\",\"#ff6db6\",\"#ffb6db\",\n",
    " \"#490092\",\"#006ddb\",\"#b66dff\",\"#6db6ff\",\"#b6dbff\",\n",
    " \"#920000\",\"#924900\",\"#db6d00\",\"#24ff24\",\"#ffff6d\"]\n",
    "\n",
    "fig, ax = plt.subplots(1,1)\n",
    "fig.set_size_inches(8, 8)\n",
    "\n",
    "\n",
    "t_surface_eq = 0\n",
    "l_lower = 0\n",
    "l_upper = 0\n",
    "\n",
    "## Compute lambda for lower crust conduction   \n",
    "LHS_lower = L * np.pi ** 0.5 / c / (Tlava - Tsub)                                                ## Compute LHS of Stefan problem    \n",
    "l_lower = lambdas[np.argmin(np.abs(LHS_lower - Stefan_lambda_upper(lambdas)))]                   ## Find value of lamba that produces RHS equal to the LHS   \n",
    "    \n",
    "    \n",
    "### Model till surface temperature is equilibrated to the ambient temperature\n",
    "## loop through all surface temperatures\n",
    "for i, Ts in enumerate(Tsurf):\n",
    "    \n",
    "    ## Compute lambda for upper crust conduction   \n",
    "    LHS_upper = L * np.pi ** 0.5 / c / (Tlava - Ts)                                                  ## Compute LHS of Stefan problem\n",
    "    l_upper = lambdas[np.argmin(np.abs(LHS_upper - Stefan_lambda_upper(lambdas)))]                   ## Find value of lamba that produces RHS equal to the LHS   \n",
    "    # print(\"lambda_upper = \", l_upper)\n",
    "    \n",
    "    \n",
    "    ## Compute time t by equating surface temperature gradient to heat flux through the surface\n",
    "    Q_snyder = 1.07 * 1e-13 * Ts**4.85 * 1000                                                        ## heat flux in W/m2 using eq 8 of Flynn et al. 2023\n",
    "    t_sqroot = k * (Tlava - Ts) / erf(l_upper) / (np.pi*kappa)**0.5 / Q_snyder\n",
    "    t = t_sqroot**2\n",
    "    t_surface_eq = t\n",
    "    # print(\"Snyder's surface heat flux in W/m2 = \", Q_snyder)\n",
    "    print(\"time in hours = \", t/3600)  \n",
    "    \n",
    "    \n",
    "    ## Compute crustal thickneess from lambda and time t\n",
    "    C_lower = crustal_thickness(l_lower, kappa, t)\n",
    "    C_upper = crustal_thickness(l_upper, kappa, t) \n",
    "    # print(\"upper_crust_thickness =\", C_upper)\n",
    "    # print(\"basal_crust_thickness =\", C_lower)\n",
    "    \n",
    "    if abs(C_lower + C_upper - lava_thickness) <= 1e-3:\n",
    "        print(\"lava solidification occured at or before \", t/3600, \" hours\")\n",
    "        break\n",
    "    \n",
    "    ## Calculation of temperature profile for a 15 m thick lava flow before solidification\n",
    "    y_lower = np.linspace(-100, C_lower, 100)\n",
    "    dTdz_lower = (((Tlava-Tsub) / (erf(l_lower)+1)) * (1 + erf(y_lower / 2/ (kappa*t)**0.5))) + Tsub\n",
    "    # dTdz_lower = temp_lower_crust(Tlava, Tsub, l_lower, kappa, y_lower, t)\n",
    "       \n",
    "    y_upper = np.linspace(0, C_upper, 100)\n",
    "    dTdz_upper = (((Tlava-Ts) / erf(l_upper)) * erf((y_upper) / 2/(kappa*t)**0.5)) + Ts\n",
    "    # dTdz_upper = temp_upper_crust(Tlava, Ts, l, kappa, y_upper, t):\n",
    "    \n",
    "    ax.plot(dTdz_lower, y_lower, \"--\", color = colors[i])\n",
    "    ax.plot(dTdz_upper, lava_thickness-y_upper, color = colors[i])\n",
    "    \n",
    "    \n",
    "### Model after surface temperature os equilibrated to the ambient temperature\n",
    "time_solid = 0\n",
    "time = np.linspace(t_surface_eq, 4e6, 5)\n",
    "\n",
    "for i, t in enumerate(time):\n",
    "    if i > 0:\n",
    "        print(\"time in hours = \", t/3600)\n",
    "        ## Compute crustal thickneess from lambda and time t\n",
    "        C_lower = crustal_thickness(l_lower, kappa, t)\n",
    "        C_upper = crustal_thickness(l_upper, kappa, t) \n",
    "        print(\"upper_crust_thickness =\", C_upper)\n",
    "        print(\"basal_crust_thickness =\", C_lower)\n",
    "\n",
    "        if C_lower + C_upper >= lava_thickness:\n",
    "            time_solid = t\n",
    "            print(\"lava solidification occured at or before \", t/3600, \" hours\")\n",
    "            break\n",
    "\n",
    "        ## Calculation of temperature profile for a 15 m thick lava flow before solidification\n",
    "        y_lower = np.linspace(-100, C_lower, 100)\n",
    "        dTdz_lower = (((Tlava-Tsub) / (erf(l_lower)+1)) * (1 + erf(y_lower / 2/ (kappa*t)**0.5))) + Tsub\n",
    "        # dTdz_lower = temp_lower_crust(Tlava, Tsub, l_lower, kappa, y_lower, t)\n",
    "\n",
    "        y_upper = np.linspace(0, C_upper, 100)\n",
    "        dTdz_upper = (((Tlava-Tsub) / erf(l_upper)) * erf((y_upper) / 2/(kappa*t)**0.5)) + Tsub\n",
    "        # dTdz_upper = temp_upper_crust(Tlava, Ts, l, kappa, y_upper, t):\n",
    "\n",
    "        ax.plot(dTdz_lower, y_lower, \"--\", color = colors[5+i])\n",
    "        ax.plot(dTdz_upper, lava_thickness-y_upper, color = colors[5+i])\n",
    "\n",
    "    \n",
    "plt.axhline(5, color='k')\n",
    "plt.axhline(0, color='k')\n",
    "\n",
    "plt.ylim(-5, lava_thickness + 2)\n",
    "plt.show()"
   ]
  },
  {
   "cell_type": "markdown",
   "id": "62ea3a7a-8ae5-488a-8065-3bf458346812",
   "metadata": {},
   "source": [
    "### <b> Temperature profile through lava after solidifcation - test run </b>"
   ]
  },
  {
   "cell_type": "code",
   "execution_count": null,
   "id": "9e155ea6-2eac-44b0-9787-440e8b60e7f6",
   "metadata": {},
   "outputs": [],
   "source": []
  }
 ],
 "metadata": {
  "kernelspec": {
   "display_name": "Python 3 (ipykernel)",
   "language": "python",
   "name": "python3"
  },
  "language_info": {
   "codemirror_mode": {
    "name": "ipython",
    "version": 3
   },
   "file_extension": ".py",
   "mimetype": "text/x-python",
   "name": "python",
   "nbconvert_exporter": "python",
   "pygments_lexer": "ipython3",
   "version": "3.9.12"
  }
 },
 "nbformat": 4,
 "nbformat_minor": 5
}
