{
 "cells": [
  {
   "cell_type": "code",
   "execution_count": 1,
   "id": "71d2baeb",
   "metadata": {
    "tags": []
   },
   "outputs": [],
   "source": [
    "import numpy as np\n",
    "import matplotlib.pyplot as plt\n",
    "import scipy.integrate as integrate\n",
    "from scipy.special import erf\n",
    "import math"
   ]
  },
  {
   "cell_type": "markdown",
   "id": "1474010e",
   "metadata": {
    "jp-MarkdownHeadingCollapsed": true,
    "tags": []
   },
   "source": [
    "### <b> Temperature profile through lava before solidifcation - test run </b>"
   ]
  },
  {
   "cell_type": "markdown",
   "id": "4a255891",
   "metadata": {
    "jp-MarkdownHeadingCollapsed": true,
    "tags": []
   },
   "source": [
    "### Step 1: Choose a value for surface temperature and compute lambda"
   ]
  },
  {
   "cell_type": "code",
   "execution_count": 2,
   "id": "062467b8",
   "metadata": {},
   "outputs": [
    {
     "name": "stdout",
     "output_type": "stream",
     "text": [
      "0.7431672330840736\n"
     ]
    }
   ],
   "source": [
    "L = 320e3                 ## latent heat capacity in J/kg; value from Wittmann et al.2017\n",
    "c =  1200                 ## specific heat capacity in J/kg/K; value from Wittman et al. 2017\n",
    "k = 3                     ## thermal conductivity in W/m/K from Head and Wilson 1986, and Davies et al., 2005\n",
    "kappa = 5e-7              ## thermal diffusivity in m2/s; value from Wittman et al. 2017 - Table 2 Peck (1978)\n",
    "\n",
    "T_magma = 1100+273        ## magma liquidus emplacement temperature in K\n",
    "T_surf = 737          ## venus atmospheric temperature\n",
    "\n",
    "RHS = L * np.pi ** 0.5 / c / (T_magma - T_surf)\n",
    "print(RHS)"
   ]
  },
  {
   "cell_type": "code",
   "execution_count": 3,
   "id": "bf53c52f",
   "metadata": {},
   "outputs": [],
   "source": [
    "lambda_up = np.arange(1.5, 0, -1e-5)\n",
    "lambda_down = np.arange(1.5, 0, -1e-5)\n",
    "def LHS_up(lambda_0):\n",
    "    LHS = np.exp(-1*lambda_0**2) / lambda_0 / erf(lambda_0)\n",
    "    return LHS\n",
    "\n",
    "def LHS_down(lambda_0):\n",
    "    LHS = np.exp(-1*lambda_0**2) / lambda_0 / (1+erf(lambda_0))\n",
    "    return LHS\n",
    "\n",
    "def temp_lower_crust(Tlava, Tsub, l, kappa, thickness, time):\n",
    "    m = (Tlava - Tsub) / (1+erf(l))\n",
    "    n = 1 + erf(thickness / 2 / (kappa*time)**0.5)\n",
    "    return ((m*n) + Tsub)\n",
    "\n",
    "def temp_upper_crust(Tlava, Tsurf, l, kappa, thickness, time):\n",
    "    m = (Tlava - Tsurf) / erf(l)\n",
    "    n = erf(thickness / 2 / (kappa*time)**0.5)\n",
    "    return (m*n) + Tsurf"
   ]
  },
  {
   "cell_type": "code",
   "execution_count": 4,
   "id": "205adcb4",
   "metadata": {},
   "outputs": [
    {
     "name": "stdout",
     "output_type": "stream",
     "text": [
      "lambda_up =  0.8492599999957369\n",
      "minimum =  4.162498710935658e-06\n"
     ]
    }
   ],
   "source": [
    "solution_up = RHS - LHS_up(lambda_up) \n",
    "print(\"lambda_up = \", lambda_up[np.argmin(np.abs(solution_up))])\n",
    "print(\"minimum = \", LHS_up(lambda_up[np.argmin(np.abs(solution_up))]) - RHS)\n",
    "l_up = lambda_up[np.argmin(np.abs(solution_up))]"
   ]
  },
  {
   "cell_type": "code",
   "execution_count": 5,
   "id": "6673a7db",
   "metadata": {},
   "outputs": [
    {
     "name": "stdout",
     "output_type": "stream",
     "text": [
      "lambda_up =  0.5926399999940557\n",
      "minimum =  3.35863379052892e-06\n"
     ]
    }
   ],
   "source": [
    "solution_down = RHS - LHS_down(lambda_down) \n",
    "print(\"lambda_up = \", lambda_down[np.argmin(np.abs(solution_down))])\n",
    "print(\"minimum = \", LHS_down(lambda_down[np.argmin(np.abs(solution_down))]) - RHS)\n",
    "l_down = lambda_down[np.argmin(np.abs(solution_down))]"
   ]
  },
  {
   "cell_type": "markdown",
   "id": "be9eb2f4",
   "metadata": {
    "jp-MarkdownHeadingCollapsed": true,
    "tags": []
   },
   "source": [
    "### Proper iteration - doesn't work for lambda_up"
   ]
  },
  {
   "cell_type": "code",
   "execution_count": null,
   "id": "bd7d1fc2",
   "metadata": {},
   "outputs": [],
   "source": [
    "lambda_init = 1.7\n",
    "while True:\n",
    "    lambda_final = c * (T_magma - T_surf) * np.exp(-1*lambda_init**2) / (L * np.pi**0.5 * math.erf(lambda_init))\n",
    "    temp = lambda_init\n",
    "    lambda_init = lambda_final\n",
    "    print(temp, lambda_init)\n",
    "    if (abs(temp - lambda_init) <= 0.001):\n",
    "        lambda_upper = lambda_final\n",
    "        break"
   ]
  },
  {
   "cell_type": "code",
   "execution_count": null,
   "id": "dc11fa04",
   "metadata": {},
   "outputs": [],
   "source": [
    "lambda_init = 0.5\n",
    "while True:\n",
    "    lambda_final = c * (T_magma - T_surf) * np.exp(-1*lambda_init**2) / (L * np.pi**0.5 * (1+math.erf(lambda_init)))\n",
    "    temp = lambda_init\n",
    "    lambda_init = lambda_final\n",
    "    if (abs(temp - lambda_init) <= 0.0001):\n",
    "        lambda_lower = lambda_final\n",
    "        break\n",
    "        \n",
    "print(lambda_lower)"
   ]
  },
  {
   "cell_type": "markdown",
   "id": "74e5e5e3",
   "metadata": {
    "jp-MarkdownHeadingCollapsed": true,
    "tags": []
   },
   "source": [
    "### Step 2: Compute time t by equating surface temperature gradient to heat flux through the surface"
   ]
  },
  {
   "cell_type": "code",
   "execution_count": 9,
   "id": "a8bfd32b",
   "metadata": {},
   "outputs": [
    {
     "name": "stdout",
     "output_type": "stream",
     "text": [
      "surface heat flux =  8641.73797127113\n",
      "time in hours =  14.529638264105307\n"
     ]
    }
   ],
   "source": [
    "surface_heat_loss = 1.07 * 1e-13 * T_surf**4.85 * 1000                    ## heat flux in W/m2 using eq 8 of Flynn et al. 2023\n",
    "t_sqroot = k * (T_magma - T_surf) / erf(l_up) / (np.pi*kappa)**0.5 / surface_heat_loss\n",
    "t = t_sqroot**2\n",
    "print(\"surface heat flux = \", surface_heat_loss)\n",
    "print(\"time in hours = \", t/3600)"
   ]
  },
  {
   "cell_type": "markdown",
   "id": "89234f4e",
   "metadata": {
    "jp-MarkdownHeadingCollapsed": true,
    "tags": []
   },
   "source": [
    "### Step 3: Compute crustal thickneess from lambda and time t"
   ]
  },
  {
   "cell_type": "code",
   "execution_count": 10,
   "id": "39cd6f4a",
   "metadata": {},
   "outputs": [
    {
     "name": "stdout",
     "output_type": "stream",
     "text": [
      "upper_crust_thickness = 0.2746846043808657\n",
      "basal_crust_thickness = 0.19168344669413445\n"
     ]
    }
   ],
   "source": [
    "def crustal_thickness(l, kappa, t):\n",
    "    return 2 * l * (kappa * t)**0.5\n",
    "\n",
    "upper_crust_thickness = crustal_thickness(l_up, kappa, t) \n",
    "basal_crust_thickness = crustal_thickness(l_down, kappa, t)\n",
    "print(\"upper_crust_thickness =\", upper_crust_thickness)\n",
    "print(\"basal_crust_thickness =\", basal_crust_thickness)"
   ]
  },
  {
   "cell_type": "markdown",
   "id": "f459f3cf",
   "metadata": {
    "jp-MarkdownHeadingCollapsed": true,
    "tags": []
   },
   "source": [
    "### Step 4: Calculation of temperature profile for a 5 m thick lava flow before solidification"
   ]
  },
  {
   "cell_type": "code",
   "execution_count": 12,
   "id": "8b5f594f",
   "metadata": {},
   "outputs": [
    {
     "ename": "NameError",
     "evalue": "name 'basal_crust_thickness' is not defined",
     "output_type": "error",
     "traceback": [
      "\u001b[0;31m---------------------------------------------------------------------------\u001b[0m",
      "\u001b[0;31mNameError\u001b[0m                                 Traceback (most recent call last)",
      "Input \u001b[0;32mIn [12]\u001b[0m, in \u001b[0;36m<cell line: 3>\u001b[0;34m()\u001b[0m\n\u001b[1;32m      1\u001b[0m T_b \u001b[38;5;241m=\u001b[39m \u001b[38;5;241m476\u001b[39m \u001b[38;5;241m+\u001b[39m \u001b[38;5;241m273\u001b[39m\n\u001b[1;32m      2\u001b[0m lava_thickness \u001b[38;5;241m=\u001b[39m \u001b[38;5;241m5\u001b[39m\n\u001b[0;32m----> 3\u001b[0m y_down \u001b[38;5;241m=\u001b[39m np\u001b[38;5;241m.\u001b[39mlinspace(\u001b[38;5;241m0\u001b[39m, \u001b[43mbasal_crust_thickness\u001b[49m, \u001b[38;5;241m50\u001b[39m)\n\u001b[1;32m      4\u001b[0m \u001b[38;5;66;03m# T_base = T_base + ( ((T_magma -T_base) / (erf(l_down) + 1)) * (1 + erf(y_down / 2*(kappa*t)**0.5)) )\u001b[39;00m\n\u001b[1;32m      5\u001b[0m T_base \u001b[38;5;241m=\u001b[39m T_b \u001b[38;5;241m+\u001b[39m (\u001b[38;5;241m1\u001b[39m \u001b[38;5;241m+\u001b[39m erf(y_down \u001b[38;5;241m/\u001b[39m \u001b[38;5;241m2\u001b[39m \u001b[38;5;241m*\u001b[39m (kappa\u001b[38;5;241m*\u001b[39m\u001b[38;5;241m3.156e+7\u001b[39m)\u001b[38;5;241m*\u001b[39m\u001b[38;5;241m*\u001b[39m\u001b[38;5;241m0.5\u001b[39m)) \u001b[38;5;241m*\u001b[39m (T_magma\u001b[38;5;241m-\u001b[39mT_b) \u001b[38;5;241m/\u001b[39m (erf(l_down) \u001b[38;5;241m+\u001b[39m \u001b[38;5;241m1\u001b[39m)\n",
      "\u001b[0;31mNameError\u001b[0m: name 'basal_crust_thickness' is not defined"
     ]
    }
   ],
   "source": [
    "T_b = 476 + 273\n",
    "lava_thickness = 5\n",
    "y_down = np.linspace(0, basal_crust_thickness, 50)\n",
    "# T_base = T_base + ( ((T_magma -T_base) / (erf(l_down) + 1)) * (1 + erf(y_down / 2*(kappa*t)**0.5)) )\n",
    "T_base = T_b + (1 + erf(y_down / 2 * (kappa*3.156e+7)**0.5)) * (T_magma-T_b) / (erf(l_down) + 1)\n",
    "\n",
    "y_up = np.linspace(upper_crust_thickness, 0, 50)\n",
    "# T_upper = T_surf + ( ((T_magma -T_surf) / erf(l_up)) * ( erf((lava_thickness-y_up) / 2*(kappa*t)**0.5)) )\n",
    "T_upper = T_surf + (erf((lava_thickness-y_up) / 2*(kappa*3.156e+7)**0.5) * (T_magma-T_surf) / erf(l_up))  "
   ]
  },
  {
   "cell_type": "code",
   "execution_count": 8,
   "id": "bc4716ac",
   "metadata": {},
   "outputs": [
    {
     "data": {
      "text/plain": [
       "7.575757575757576e-07"
      ]
     },
     "execution_count": 8,
     "metadata": {},
     "output_type": "execute_result"
    }
   ],
   "source": [
    "3 / (3300*1200)"
   ]
  },
  {
   "cell_type": "markdown",
   "id": "a79975ef",
   "metadata": {
    "tags": []
   },
   "source": [
    "### <b> Temperature profile through lava before solidifcation - complete workflow </b>"
   ]
  },
  {
   "cell_type": "code",
   "execution_count": 2,
   "id": "df9e9d9b",
   "metadata": {
    "tags": []
   },
   "outputs": [],
   "source": [
    "## Initial variables\n",
    "\n",
    "## All tempertaures in Kelvin\n",
    "Tlava = 1135 + 273                                   ## Magma liquidus temperature \n",
    "Tsub = 737                                     ## Substrate temperature\n",
    "Tsurf = np.linspace(Tlava-5, Tsub, 3)             ## Surface temperatures - rangomg from liquidus to ambient\n",
    "\n",
    "## Other variables\n",
    "L = 320e3                    ## latent heat capacity in J/kg; value from Wittmann et al.2017\n",
    "c =  1200                    ## specific heat capacity in J/kg/K; value from Wittman et al. 2017\n",
    "k = 1                        ## thermal conductivity in W/m/K from Head and Wilson 1986, and Davies et al., 2005\n",
    "rho = 2600                   ## Basalt density from Davies et al., 2006\n",
    "kappa = k/rho/c              ## thermal diffusivity in m2/s;\n",
    "\n",
    "lava_thickness = 10           ## thickness of lava flow in meters\n",
    "\n",
    "## Predefined set of lambdasfor solcing the transcendental Stefan problem\n",
    "lambdas = np.arange(1.5, 0, -1e-5)"
   ]
  },
  {
   "cell_type": "code",
   "execution_count": 3,
   "id": "fbd8ab23",
   "metadata": {
    "tags": []
   },
   "outputs": [],
   "source": [
    "## Functions\n",
    "\n",
    "def Stefan_lambda_upper(lambda_0):\n",
    "    LHS = np.exp(-1*lambda_0**2) / lambda_0 / erf(lambda_0)\n",
    "    return LHS\n",
    "\n",
    "def Stefan_lambda_lower(lambda_0):\n",
    "    LHS = np.exp(-1*lambda_0**2) / lambda_0 / (1+erf(lambda_0))\n",
    "    return LHS\n",
    "\n",
    "def crustal_thickness(l, kappa, t):\n",
    "    return 2 * l * (kappa * t)**0.5\n",
    "\n",
    "def temp_lower_crust(Tlava, Tsub, l, kappa, thickness, time):\n",
    "    m = (Tlava - Tsub) / (1+erf(l))\n",
    "    n = 1 + erf(thickness / 2 / (kappa*time)**0.5)\n",
    "    return ((m*n) + Tsub)\n",
    "\n",
    "def temp_upper_crust(Tlava, Tsurf, l, kappa, thickness, time):\n",
    "    m = (Tlava - Tsurf) / erf(l)\n",
    "    n = erf(thickness / 2 / (kappa*time)**0.5)\n",
    "    return (m*n) + Tsurf"
   ]
  },
  {
   "cell_type": "markdown",
   "id": "7428919c",
   "metadata": {
    "tags": []
   },
   "source": [
    "### Workflow"
   ]
  },
  {
   "cell_type": "code",
   "execution_count": 16,
   "id": "0e4e5a6a",
   "metadata": {
    "tags": []
   },
   "outputs": [
    {
     "name": "stdout",
     "output_type": "stream",
     "text": [
      "upper_crust_thickness = 5.867791064338907\n",
      "basal_crust_thickness = 4.132208976579578\n",
      "lava solidification occured at  9988.326896162593  hours\n",
      "0.6085999999941603 0.8642199999958349\n",
      "time in hours =  2499.1406461625925\n",
      "time in hours =  4995.536062829259\n",
      "time in hours =  7491.931479495926\n",
      "time in hours =  9988.326896162593\n"
     ]
    },
    {
     "data": {
      "image/png": "[encoded data removed]",
      "text/plain": [
       "<Figure size 576x576 with 1 Axes>"
      ]
     },
     "metadata": {
      "needs_background": "light"
     },
     "output_type": "display_data"
    }
   ],
   "source": [
    "colors = [\"#000000\",\"#004949\",\"#009292\",\"#ff6db6\",\"#ffb6db\",\n",
    " \"#490092\",\"#006ddb\",\"#b66dff\",\"#6db6ff\",\"#b6dbff\",\n",
    " \"#920000\",\"#924900\",\"#db6d00\",\"#24ff24\",\"#ffff6d\"]\n",
    "T_preSC_up = []\n",
    "T_preSC_base = []\n",
    "z_preSC_up = []\n",
    "z_preSC_base = []\n",
    "\n",
    "fig, ax = plt.subplots(1,1)\n",
    "fig.set_size_inches(8, 8)\n",
    "\n",
    "\n",
    "t_surface_eq = 0\n",
    "l_lower = 0\n",
    "l_upper = 0\n",
    "\n",
    "## Compute lambda for lower crust conduction   \n",
    "LHS_lower = L * np.pi ** 0.5 / c / (Tlava - Tsub)                                                ## Compute LHS of Stefan problem    \n",
    "l_lower = lambdas[np.argmin(np.abs(LHS_lower - Stefan_lambda_lower(lambdas)))]                   ## Find value of lamba that produces RHS equal to the LHS   \n",
    "    \n",
    "    \n",
    "## Model till surface temperature is equilibrated to the ambient temperature\n",
    "## loop through all surface temperatures\n",
    "for i, Ts in enumerate(Tsurf):\n",
    "    \n",
    "    ## Compute lambda for upper crust conduction   \n",
    "    LHS_upper = L * np.pi ** 0.5 / c / (Tlava - Ts)                                                  ## Compute LHS of Stefan problem\n",
    "    l_upper = lambdas[np.argmin(np.abs(LHS_upper - Stefan_lambda_upper(lambdas)))]                   ## Find value of lamba that produces RHS equal to the LHS   \n",
    "\n",
    "    \n",
    "    \n",
    "    ## Compute time t by equating surface temperature gradient to heat flux through the surface\n",
    "    Q_snyder = 1.07 * 1e-13 * Ts**4.85 * 1000                                                        ## heat flux in W/m2 using eq 8 of Flynn et al. 2023\n",
    "    t_sqroot = k * (Tlava - Ts) / erf(l_upper) / (np.pi*kappa)**0.5 / Q_snyder\n",
    "    t = t_sqroot**2\n",
    "    t_surface_eq = t\n",
    "    # print(\"Snyder's surface heat flux in W/m2 = \", Q_snyder)\n",
    "#     print(\"time in hours = \", t/3600)  \n",
    "    \n",
    "    \n",
    "    ## Compute crustal thickneess from lambda and time t\n",
    "    C_lower = crustal_thickness(l_lower, kappa, t)\n",
    "    C_upper = crustal_thickness(l_upper, kappa, t) \n",
    "    # print(\"upper_crust_thickness =\", C_upper)\n",
    "    # print(\"basal_crust_thickness =\", C_lower)\n",
    "    \n",
    "    if C_lower + C_upper >= lava_thickness:\n",
    "        print(\"lava solidification occured at or before \", t/3600, \" hours\")\n",
    "        break\n",
    "    \n",
    "    ## Calculation of temperature profile for a 15 m thick lava flow before solidification\n",
    "    y_lower = np.linspace(-100, C_lower, 100)\n",
    "    T_lower = (((Tlava-Tsub) / (erf(l_lower)+1)) * (1 + erf(y_lower / 2/ (kappa*t)**0.5))) + Tsub\n",
    "    # T_lower = temp_lower_crust(Tlava, Tsub, l_lower, kappa, y_lower, t)\n",
    "    # T_preSC_base.append(T_lower)\n",
    "    # z_preSC_base.append(y_lower)\n",
    "       \n",
    "    y_upper = np.linspace(0, C_upper, 100)\n",
    "    T_upper = (((Tlava-Ts) / erf(l_upper)) * erf((y_upper) / 2/(kappa*t)**0.5)) + Ts\n",
    "    # T_upper = temp_upper_crust(Tlava, Ts, l, kappa, y_upper, t)\n",
    "    # T_preSC_up.append(T_upper)\n",
    "    # z_preSC_up.append(y_upper)\n",
    "    \n",
    "    ax.plot(T_lower, y_lower, \"--\", color = colors[i], label = t/3600)\n",
    "    ax.plot(T_upper, lava_thickness-y_upper, color = colors[i])\n",
    "    \n",
    "###################################################################################################################    \n",
    "\n",
    "## find the time at which the upper and lower crust meet\n",
    "time_solid = 0\n",
    "crustal_growth_period = np.arange(t_surface_eq, 4e7, 1)\n",
    "\n",
    "for t in crustal_growth_period:\n",
    "    ## Compute crustal thickneess from lambda and time t\n",
    "    C_lower = crustal_thickness(l_lower, kappa, t)\n",
    "    C_upper = crustal_thickness(l_upper, kappa, t)\n",
    "    if C_lower + C_upper >= lava_thickness:  \n",
    "            print(\"upper_crust_thickness =\", C_upper)\n",
    "            print(\"basal_crust_thickness =\", C_lower)\n",
    "            print(\"lava solidification occured at \", time_solid/3600, \" hours\")\n",
    "            break\n",
    "    time_solid = t\n",
    "       \n",
    "####################################################################################################################   \n",
    "\n",
    "## Model after surface temperature has equilibrated to the ambient temperature\n",
    "time = np.linspace(t_surface_eq, time_solid, 5)\n",
    "z_upper_solid = 0\n",
    "z_lower_solid = 0\n",
    "T_upper_solid = 0\n",
    "T_lower_solid = 0\n",
    "\n",
    "print(l_lower, l_upper)\n",
    "dy = 1e-2\n",
    "for i, t in enumerate(time):\n",
    "    if i > 0:\n",
    "        print(\"time in hours = \", t/3600)\n",
    "        ## Compute crustal thickneess from lambda and time t\n",
    "        C_lower = crustal_thickness(l_lower, kappa, t)\n",
    "        C_upper = crustal_thickness(l_upper, kappa, t) \n",
    "#         print(\"upper_crust_thickness =\", C_upper)\n",
    "#         print(\"basal_crust_thickness =\", C_lower)\n",
    "\n",
    "        ## Calculation of temperature profile for a 15 m thick lava flow before solidification\n",
    "        y_lower = np.arange(-100, C_lower+dy, dy)\n",
    "        T_lower = (((Tlava-Tsub) / (erf(l_lower)+1)) * (1 + erf(y_lower / 2/ (kappa*t)**0.5))) + Tsub\n",
    "        # Tz_lower = temp_lower_crust(Tlava, Tsub, l_lower, kappa, y_lower, t)\n",
    "        T_preSC_base.append(T_lower)\n",
    "        z_preSC_base.append(y_lower)\n",
    "\n",
    "        y_upper = np.arange(0, C_upper+dy, dy)\n",
    "        T_upper = (((Tlava-Tsub) / erf(l_upper)) * erf((y_upper) / 2/(kappa*t)**0.5)) + Tsub\n",
    "        T_preSC_up.append(T_upper)\n",
    "        z_preSC_up.append(lava_thickness-y_upper)\n",
    "        # Tz_upper = temp_upper_crust(Tlava, Ts, l, kappa, y_upper, t):\n",
    "        \n",
    "        if t==time[-1]:\n",
    "            z_lower_solid = y_lower\n",
    "            z_upper_solid = lava_thickness-y_upper\n",
    "            T_lower_solid = T_lower\n",
    "            T_upper_solid = T_upper\n",
    "            \n",
    "        ax.plot(T_lower, y_lower, \"--\", color = colors[5+i], label = t/3600)\n",
    "        ax.plot(T_upper, lava_thickness-y_upper, color = colors[5+i])\n",
    "\n",
    "    \n",
    "plt.axhline(lava_thickness/2, color='k')\n",
    "plt.axhline(0, color='k')\n",
    "\n",
    "plt.legend()\n",
    "plt.ylim(-5, lava_thickness+2)\n",
    "plt.show()"
   ]
  },
  {
   "cell_type": "code",
   "execution_count": 38,
   "id": "5c4ac3be-6dc1-4258-9f2d-00255595af9e",
   "metadata": {},
   "outputs": [
    {
     "name": "stdout",
     "output_type": "stream",
     "text": [
      "4 4 4 4\n",
      "[-100.    -99.99  -99.98 ...    2.05    2.06    2.07] [2.06 2.07 2.08 2.09 2.1  2.11 2.12 2.13 2.14 2.15 2.16 2.17 2.18 2.19\n",
      " 2.2  2.21 2.22 2.23 2.24 2.25 2.26 2.27 2.28 2.29 2.3  2.31 2.32 2.33\n",
      " 2.34 2.35 2.36 2.37 2.38 2.39 2.4  2.41 2.42 2.43 2.44 2.45 2.46 2.47\n",
      " 2.48 2.49 2.5  2.51 2.52 2.53 2.54 2.55 2.56 2.57 2.58 2.59 2.6  2.61\n",
      " 2.62 2.63 2.64 2.65 2.66 2.67 2.68 2.69 2.7  2.71 2.72 2.73 2.74 2.75\n",
      " 2.76 2.77 2.78 2.79 2.8  2.81 2.82 2.83 2.84 2.85 2.86 2.87 2.88 2.89\n",
      " 2.9  2.91 2.92 2.93 2.94 2.95 2.96 2.97 2.98 2.99 3.   3.01 3.02 3.03\n",
      " 3.04 3.05 3.06 3.07 3.08 3.09 3.1  3.11 3.12 3.13 3.14 3.15 3.16 3.17\n",
      " 3.18 3.19 3.2  3.21 3.22 3.23 3.24 3.25 3.26 3.27 3.28 3.29 3.3  3.31\n",
      " 3.32 3.33 3.34 3.35 3.36 3.37 3.38 3.39 3.4  3.41 3.42 3.43 3.44 3.45\n",
      " 3.46 3.47 3.48 3.49 3.5  3.51 3.52 3.53 3.54 3.55 3.56 3.57 3.58 3.59\n",
      " 3.6  3.61 3.62 3.63 3.64 3.65 3.66 3.67 3.68 3.69 3.7  3.71 3.72 3.73\n",
      " 3.74 3.75 3.76 3.77 3.78 3.79 3.8  3.81 3.82 3.83 3.84 3.85 3.86 3.87\n",
      " 3.88 3.89 3.9  3.91 3.92 3.93 3.94 3.95 3.96 3.97 3.98 3.99 4.   4.01\n",
      " 4.02 4.03 4.04 4.05 4.06 4.07 4.08 4.09 4.1  4.11 4.12 4.13 4.14 4.15\n",
      " 4.16 4.17 4.18 4.19 4.2  4.21 4.22 4.23 4.24 4.25 4.26 4.27 4.28 4.29\n",
      " 4.3  4.31 4.32 4.33 4.34 4.35 4.36 4.37 4.38 4.39 4.4  4.41 4.42 4.43\n",
      " 4.44 4.45 4.46 4.47 4.48 4.49 4.5  4.51 4.52 4.53 4.54 4.55 4.56 4.57\n",
      " 4.58 4.59 4.6  4.61 4.62 4.63 4.64 4.65 4.66 4.67 4.68 4.69 4.7  4.71\n",
      " 4.72 4.73 4.74 4.75 4.76 4.77 4.78 4.79 4.8  4.81 4.82 4.83 4.84 4.85\n",
      " 4.86 4.87 4.88 4.89 4.9  4.91 4.92 4.93 4.94 4.95 4.96 4.97 4.98 4.99\n",
      " 5.   5.01 5.02 5.03 5.04 5.05 5.06 5.07 5.08 5.09 5.1  5.11 5.12 5.13\n",
      " 5.14 5.15 5.16 5.17 5.18 5.19 5.2  5.21 5.22 5.23 5.24 5.25 5.26 5.27\n",
      " 5.28 5.29 5.3  5.31 5.32 5.33 5.34 5.35 5.36 5.37 5.38 5.39 5.4  5.41\n",
      " 5.42 5.43 5.44 5.45 5.46 5.47 5.48 5.49 5.5  5.51 5.52 5.53 5.54 5.55\n",
      " 5.56 5.57 5.58 5.59 5.6  5.61 5.62 5.63 5.64 5.65 5.66 5.67 5.68 5.69\n",
      " 5.7  5.71 5.72 5.73 5.74 5.75 5.76 5.77 5.78 5.79 5.8  5.81 5.82 5.83\n",
      " 5.84 5.85 5.86 5.87 5.88 5.89 5.9  5.91 5.92 5.93 5.94 5.95 5.96 5.97\n",
      " 5.98 5.99 6.   6.01 6.02 6.03 6.04 6.05 6.06 6.07 6.08 6.09 6.1  6.11\n",
      " 6.12 6.13 6.14 6.15 6.16 6.17 6.18 6.19 6.2  6.21 6.22 6.23 6.24 6.25\n",
      " 6.26 6.27 6.28 6.29 6.3  6.31 6.32 6.33 6.34 6.35 6.36 6.37 6.38 6.39\n",
      " 6.4  6.41 6.42 6.43 6.44 6.45 6.46 6.47 6.48 6.49 6.5  6.51 6.52 6.53\n",
      " 6.54 6.55 6.56 6.57 6.58 6.59 6.6  6.61 6.62 6.63 6.64 6.65 6.66 6.67\n",
      " 6.68 6.69 6.7  6.71 6.72 6.73 6.74 6.75 6.76 6.77 6.78 6.79 6.8  6.81\n",
      " 6.82 6.83 6.84 6.85 6.86 6.87 6.88 6.89 6.9  6.91 6.92 6.93 6.94 6.95\n",
      " 6.96 6.97 6.98 6.99 7.   7.01 7.02 7.03 7.04 7.05] [ 7.06  7.07  7.08  7.09  7.1   7.11  7.12  7.13  7.14  7.15  7.16  7.17\n",
      "  7.18  7.19  7.2   7.21  7.22  7.23  7.24  7.25  7.26  7.27  7.28  7.29\n",
      "  7.3   7.31  7.32  7.33  7.34  7.35  7.36  7.37  7.38  7.39  7.4   7.41\n",
      "  7.42  7.43  7.44  7.45  7.46  7.47  7.48  7.49  7.5   7.51  7.52  7.53\n",
      "  7.54  7.55  7.56  7.57  7.58  7.59  7.6   7.61  7.62  7.63  7.64  7.65\n",
      "  7.66  7.67  7.68  7.69  7.7   7.71  7.72  7.73  7.74  7.75  7.76  7.77\n",
      "  7.78  7.79  7.8   7.81  7.82  7.83  7.84  7.85  7.86  7.87  7.88  7.89\n",
      "  7.9   7.91  7.92  7.93  7.94  7.95  7.96  7.97  7.98  7.99  8.    8.01\n",
      "  8.02  8.03  8.04  8.05  8.06  8.07  8.08  8.09  8.1   8.11  8.12  8.13\n",
      "  8.14  8.15  8.16  8.17  8.18  8.19  8.2   8.21  8.22  8.23  8.24  8.25\n",
      "  8.26  8.27  8.28  8.29  8.3   8.31  8.32  8.33  8.34  8.35  8.36  8.37\n",
      "  8.38  8.39  8.4   8.41  8.42  8.43  8.44  8.45  8.46  8.47  8.48  8.49\n",
      "  8.5   8.51  8.52  8.53  8.54  8.55  8.56  8.57  8.58  8.59  8.6   8.61\n",
      "  8.62  8.63  8.64  8.65  8.66  8.67  8.68  8.69  8.7   8.71  8.72  8.73\n",
      "  8.74  8.75  8.76  8.77  8.78  8.79  8.8   8.81  8.82  8.83  8.84  8.85\n",
      "  8.86  8.87  8.88  8.89  8.9   8.91  8.92  8.93  8.94  8.95  8.96  8.97\n",
      "  8.98  8.99  9.    9.01  9.02  9.03  9.04  9.05  9.06  9.07  9.08  9.09\n",
      "  9.1   9.11  9.12  9.13  9.14  9.15  9.16  9.17  9.18  9.19  9.2   9.21\n",
      "  9.22  9.23  9.24  9.25  9.26  9.27  9.28  9.29  9.3   9.31  9.32  9.33\n",
      "  9.34  9.35  9.36  9.37  9.38  9.39  9.4   9.41  9.42  9.43  9.44  9.45\n",
      "  9.46  9.47  9.48  9.49  9.5   9.51  9.52  9.53  9.54  9.55  9.56  9.57\n",
      "  9.58  9.59  9.6   9.61  9.62  9.63  9.64  9.65  9.66  9.67  9.68  9.69\n",
      "  9.7   9.71  9.72  9.73  9.74  9.75  9.76  9.77  9.78  9.79  9.8   9.81\n",
      "  9.82  9.83  9.84  9.85  9.86  9.87  9.88  9.89  9.9   9.91  9.92  9.93\n",
      "  9.94  9.95  9.96  9.97  9.98  9.99 10.  ]\n"
     ]
    }
   ],
   "source": [
    "print(len(T_preSC_base), len(z_preSC_base), len(T_preSC_up), len(z_preSC_up))\n",
    "# print(z_preSC_base[0], z_preSC_up[0])\n",
    "z_base = z_preSC_base[0]\n",
    "z_up = z_preSC_up[0]\n",
    "T_base = T_preSC_base[0]\n",
    "T_up = T_preSC_up[0]\n",
    "z_mid = np.arange(z_base[-2], z_up[-1], dz)\n",
    "T_mid = np.ones_like(z_mid) * T_base[-1]\n",
    "print(z_base, z_mid, np.flip(z_up))\n",
    "# print(T_base, T_mid, np.flip(T_up))\n",
    "# z_preSC = np.concatentae()"
   ]
  },
  {
   "cell_type": "code",
   "execution_count": 33,
   "id": "29d4d799-2495-42c5-8c72-2a337d0b09ce",
   "metadata": {},
   "outputs": [
    {
     "data": {
      "text/plain": [
       "1408.2907574291123"
      ]
     },
     "execution_count": 33,
     "metadata": {},
     "output_type": "execute_result"
    }
   ],
   "source": [
    "T_base[-1]"
   ]
  },
  {
   "cell_type": "markdown",
   "id": "0bea523b",
   "metadata": {
    "tags": []
   },
   "source": [
    "### <b> Temperature profile through lava after solidifcation - complete workflow </b>"
   ]
  },
  {
   "cell_type": "code",
   "execution_count": 5,
   "id": "a5f20082",
   "metadata": {
    "tags": []
   },
   "outputs": [],
   "source": [
    "## Setting up model domain\n",
    "dz = dy\n",
    "z_range = np.arange(-100, lava_thickness+dz, dz)              ## delta_x in meters\n",
    "\n",
    "dt = 1                                                    ## delta_t in seconds\n",
    "time_total = time_solid + (1 * (3600 * 24 * 365))\n",
    "# t_range = np.arange(time_solid, time_total+dt, dt).astype(np.float32)\n",
    "\n",
    "## Initial_condition\n",
    "t = time_solid\n",
    "z = np.concatenate((z_lower_solid, np.flip(z_upper_solid)[1:]), axis = 0)          ## join together lower crust z and upper crust z\n",
    "T_n = np.concatenate((T_lower_solid, np.flip(T_upper_solid)[1:]), axis = 0)          ## join together lower crust T and upper crust T\n",
    "\n",
    "## Note 1: Upper crust measuremnts are z downwards, so they need to be flipped \n",
    "## Note 2: The soldification point (z, T) are present in both the lower crust array and the upper crust array; removing the common (z, T) upper crust array.\n",
    "\n",
    "m = 10\n",
    "dprint = (time_total - time_solid) / m\n",
    "printat = time_solid + dprint\n",
    "\n",
    "T_PSC = np.zeros((m, len(z_range)), dtype=np.float32)"
   ]
  },
  {
   "cell_type": "code",
   "execution_count": 18,
   "id": "249f7b85",
   "metadata": {
    "tags": []
   },
   "outputs": [
    {
     "data": {
      "image/png": "[encoded data removed]",
      "text/plain": [
       "<Figure size 432x288 with 1 Axes>"
      ]
     },
     "metadata": {
      "needs_background": "light"
     },
     "output_type": "display_data"
    }
   ],
   "source": [
    "plt.figure()\n",
    "plt.plot(T_n, z)\n",
    "idx = 0\n",
    "while t <= time_total:\n",
    "    \n",
    "    T_nplus = T_n + ( \n",
    "                    (kappa*dt/dz**2) * np.diff(T_n, n=2, prepend = T_n[0], append=T_n[-1]) \n",
    "                  )   \n",
    "   \n",
    "    t+=dt\n",
    "    # check whether to store output\n",
    "    if t >= printat:\n",
    "        # print(idx)\n",
    "        # print(t/3600/24)\n",
    "        T_PSC[idx, :] = T_nplus\n",
    "        printat += dprint\n",
    "        idx += 1\n",
    "        plt.plot(T_nplus, z)\n",
    "        \n",
    "    # Update boundary_conditions\n",
    "    T_nplus[0] = Tsub\n",
    "    T_nplus[-1] = Tsub\n",
    "    \n",
    "    # variables for next step\n",
    "    T_n = T_nplus\n",
    "    \n",
    "    \n",
    "plt.ylim(-25, lava_thickness + 2)\n",
    "plt.show()   "
   ]
  },
  {
   "cell_type": "code",
   "execution_count": 19,
   "id": "5cba11cb",
   "metadata": {},
   "outputs": [
    {
     "data": {
      "image/png": "[encoded data removed]",
      "text/plain": [
       "<Figure size 432x288 with 1 Axes>"
      ]
     },
     "metadata": {
      "needs_background": "light"
     },
     "output_type": "display_data"
    }
   ],
   "source": [
    "plt.figure()\n",
    "\n",
    "for i in range(m):\n",
    "    plt.plot(T_PSC[i], z)\n",
    "    \n",
    "plt.ylim(-25, lava_thickness + 2)\n",
    "plt.show()"
   ]
  },
  {
   "cell_type": "markdown",
   "id": "a47f91da",
   "metadata": {},
   "source": [
    "### <b> Integrate subsurface temperature profile to find effective temperature </b>"
   ]
  },
  {
   "cell_type": "code",
   "execution_count": 31,
   "id": "94e27449",
   "metadata": {},
   "outputs": [
    {
     "name": "stdout",
     "output_type": "stream",
     "text": [
      "0.029270061290392384\n"
     ]
    }
   ],
   "source": [
    "### EM properties\n",
    "thi_rad = np.deg2rad(45)\n",
    "wv = 9.6e-2\n",
    "eps1 = 5 + 0.001j\n",
    "tand1 = eps1.imag / eps1.real\n",
    "alpha = (2 * np.pi / wv) * np.sqrt(0.5*eps1.real * (np.sqrt(1 + tand1**2) - 1))\n",
    "ka = 2 * alpha\n",
    "print(ka)"
   ]
  },
  {
   "cell_type": "markdown",
   "id": "ff49d7f9",
   "metadata": {},
   "source": [
    "### Use built-in Simpsons"
   ]
  },
  {
   "cell_type": "code",
   "execution_count": 32,
   "id": "cb283697",
   "metadata": {},
   "outputs": [
    {
     "name": "stdout",
     "output_type": "stream",
     "text": [
      "[-1.0500e+02 -1.0499e+02 -1.0498e+02 ... -2.0000e-02 -1.0000e-02\n",
      "  0.0000e+00] [737.      737.      737.      ... 738.19977 737.5999  737.0192 ]\n"
     ]
    }
   ],
   "source": [
    "Tnew = T_PSC [-1,:]\n",
    "znew = z - lava_thickness \n",
    "print(znew, Tnew)"
   ]
  },
  {
   "cell_type": "code",
   "execution_count": 59,
   "id": "e489edf4",
   "metadata": {},
   "outputs": [
    {
     "name": "stdout",
     "output_type": "stream",
     "text": [
      "8.2756021895515e+02 827.5601366206981\n",
      "8.172824233500253e+02 817.2823634077993\n",
      "8.093451420596095e+02 809.3450969674664\n",
      "8.029884202537955e+02 802.9883852995966\n",
      "7.977519913149611e+02 797.7519638146115\n",
      "7.933434391663079e+02 793.3434172490104\n",
      "7.895671052117627e+02 789.5670877993775\n",
      "7.862864461714478e+02 786.2864321541397\n",
      "7.834028697979056e+02 783.4028584926516\n",
      "7.808431659935013e+02 780.8431568665433\n"
     ]
    }
   ],
   "source": [
    "beta = ka / np.cos(thi_rad)\n",
    "for i in range(m):\n",
    "    Tnew = T_PSC[i, :]\n",
    "    znew = z - lava_thickness \n",
    "    func = beta * np.exp(beta * znew) * Tnew \n",
    "\n",
    "    Teff1 = integrate.simpson(func, znew)\n",
    "    Teff2 = np.trapz(func, znew)\n",
    "    print(Teff1, Teff2)"
   ]
  },
  {
   "cell_type": "markdown",
   "id": "c9334ee6",
   "metadata": {},
   "source": [
    "## Try discretizing the formula"
   ]
  },
  {
   "cell_type": "code",
   "execution_count": 61,
   "id": "c942ec31",
   "metadata": {},
   "outputs": [
    {
     "name": "stdout",
     "output_type": "stream",
     "text": [
      "3.32202880296772e+05\n",
      "6.633611444227768e+05\n",
      "9.937105040433321e+05\n",
      "1.323410309916395e+06\n",
      "1.6525736367602393e+06\n",
      "1.981284138327227e+06\n",
      "2.3096057693607635e+06\n",
      "2.637588727380168e+06\n",
      "2.965273269886473e+06\n",
      "3.29269226821661e+06\n"
     ]
    }
   ],
   "source": [
    "total = 0\n",
    "for i in range(m):\n",
    "    Tnew = T_PSC[i, :]\n",
    "    for j in range(len(znew)):\n",
    "        if j>0:\n",
    "            total += (0.5 * (Tnew[j] + Tnew[j-1])) * np.exp(beta * (znew[j] - znew[j-1])) \n",
    "    Teff = beta * total\n",
    "    print(Teff)"
   ]
  },
  {
   "cell_type": "code",
   "execution_count": null,
   "id": "c20c4d9e",
   "metadata": {},
   "outputs": [],
   "source": []
  }
 ],
 "metadata": {
  "kernelspec": {
   "display_name": "Python 3 (ipykernel)",
   "language": "python",
   "name": "python3"
  },
  "language_info": {
   "codemirror_mode": {
    "name": "ipython",
    "version": 3
   },
   "file_extension": ".py",
   "mimetype": "text/x-python",
   "name": "python",
   "nbconvert_exporter": "python",
   "pygments_lexer": "ipython3",
   "version": "3.9.12"
  }
 },
 "nbformat": 4,
 "nbformat_minor": 5
}
