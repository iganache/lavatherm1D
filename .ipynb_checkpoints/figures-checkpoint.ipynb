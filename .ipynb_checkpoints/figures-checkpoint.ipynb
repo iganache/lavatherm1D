{
 "cells": [
  {
   "cell_type": "code",
   "execution_count": 2,
   "id": "9e787cb2-84f1-45de-aeb3-ab015107fcbd",
   "metadata": {},
   "outputs": [],
   "source": [
    "import numpy as np\n",
    "import matplotlib.pyplot as plt\n",
    "from matplotlib.ticker import MaxNLocator"
   ]
  },
  {
   "cell_type": "code",
   "execution_count": 3,
   "id": "bcf75481-50f8-49a4-9014-b1b06beb78be",
   "metadata": {},
   "outputs": [],
   "source": [
    "## From Flynn et al. (2023)\n",
    "t_Venus = 179 / 24\n",
    "er_Venus = 1950"
   ]
  },
  {
   "cell_type": "code",
   "execution_count": 4,
   "id": "ce6275fb-9f5e-4142-ab67-5018ecc8e85c",
   "metadata": {},
   "outputs": [],
   "source": [
    "er_Hmin = 100\n",
    "er_Hmax = 350\n",
    "er_Kmin = 350\n",
    "er_Kmax = 1700\n",
    "t_K = 60 \n",
    "t_H = 180"
   ]
  },
  {
   "cell_type": "code",
   "execution_count": 5,
   "id": "54add6e5-a5ac-49b9-a270-7af7746d0c35",
   "metadata": {},
   "outputs": [],
   "source": [
    "eruptions = {\n",
    "                \"Effusion rates\": (er_Venus, er_Hmin, er_Kmin),\n",
    "                \"Emplacement timescale\": (t_Venus, t_H, t_K)}\n",
    "names = (\"Venus modeled\", \"Houhraun 2014-15\", \"Kilauea 2018\")"
   ]
  },
  {
   "cell_type": "code",
   "execution_count": 6,
   "id": "6f3e846c-f7a7-428e-a1a1-abaf8083ae02",
   "metadata": {},
   "outputs": [],
   "source": [
    "names = [\"Venus modeled\", \"Houhraun 2014-15\", \"Kilauea 2018\"]"
   ]
  },
  {
   "cell_type": "code",
   "execution_count": 33,
   "id": "4129849a-1067-49a6-97e7-bf51a3ab5a6d",
   "metadata": {},
   "outputs": [
    {
     "data": {
      "image/png": "[encoded data removed]",
      "text/plain": [
       "<Figure size 576x288 with 1 Axes>"
      ]
     },
     "metadata": {
      "needs_background": "light"
     },
     "output_type": "display_data"
    }
   ],
   "source": [
    "fig, ax = plt.subplots(1,1)\n",
    "fig.set_size_inches(8,4)\n",
    "\n",
    "ax.scatter(er_Venus, names[0], color = '#7e2954', marker = \"*\", s = 300)\n",
    "ax.scatter(er_Hmin, names[1], color = '#9f4a97', marker = \"o\", s = 200)\n",
    "ax.scatter(er_Hmax, names[1], color = '#9f4a97', marker = \"o\", s = 200)\n",
    "ax.scatter(er_Kmin, names[2], color = '#c26a77', marker = \"o\", s = 200)\n",
    "ax.scatter(er_Kmax, names[2], color = '#c26a77', marker = \"o\", s = 200)\n",
    "\n",
    "ax.plot( [er_Hmin, er_Hmax], [names[1], names[1]], color = '#9f4a97', linewidth = 3)\n",
    "ax.plot([er_Kmin, er_Kmax], [names[2], names[2]], color = '#c26a77', linewidth = 3)\n",
    "\n",
    "ax.set_xlim(0, 2200)\n",
    "ax.set_ylim(-0.5, 2.5)\n",
    "ax.set_xlabel(\"Effusion rate ($m^{3}s^{-1}$)\", fontsize=20, labelpad=20)\n",
    "plt.xticks(fontsize = 20)\n",
    "plt.yticks(fontsize = 20)\n",
    "plt.gca().xaxis.set_major_locator(MaxNLocator(prune='lower'))\n",
    "plt.locator_params(axis= 'x', nbins=6)\n",
    "plt.savefig(\"effusionrates.png\", bbox_inches='tight')\n",
    "plt.show()\n"
   ]
  },
  {
   "cell_type": "code",
   "execution_count": null,
   "id": "91dcdd39-8c83-405e-9d76-03d1a0f75f59",
   "metadata": {},
   "outputs": [],
   "source": []
  }
 ],
 "metadata": {
  "kernelspec": {
   "display_name": "Python 3 (ipykernel)",
   "language": "python",
   "name": "python3"
  },
  "language_info": {
   "codemirror_mode": {
    "name": "ipython",
    "version": 3
   },
   "file_extension": ".py",
   "mimetype": "text/x-python",
   "name": "python",
   "nbconvert_exporter": "python",
   "pygments_lexer": "ipython3",
   "version": "3.9.12"
  }
 },
 "nbformat": 4,
 "nbformat_minor": 5
}
