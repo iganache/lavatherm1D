{
 "cells": [
  {
   "cell_type": "code",
   "execution_count": 2,
   "id": "6662ae94-41e2-4679-8672-5a84c11503df",
   "metadata": {},
   "outputs": [],
   "source": [
    "import pandas as pd\n",
    "import numpy as np\n",
    "import matplotlib.pyplot as plt\n",
    "import scipy.integrate as integrate\n",
    "from scipy.special import erf\n",
    "import math\n",
    "\n",
    "import Lava as Lava"
   ]
  },
  {
   "cell_type": "code",
   "execution_count": null,
   "id": "b56ddeb5-c524-4723-90f9-9b736508f821",
   "metadata": {},
   "outputs": [],
   "source": [
    "Tlava = 1135 + 273\n",
    "Ta_venus = 737 \n",
    "Ta_earth = 30 + 273\n",
    "Tsub_venus = Ta_venus\n",
    "Tsub_earth = Ta_earth"
   ]
  }
 ],
 "metadata": {
  "kernelspec": {
   "display_name": "Python 3 (ipykernel)",
   "language": "python",
   "name": "python3"
  },
  "language_info": {
   "codemirror_mode": {
    "name": "ipython",
    "version": 3
   },
   "file_extension": ".py",
   "mimetype": "text/x-python",
   "name": "python",
   "nbconvert_exporter": "python",
   "pygments_lexer": "ipython3",
   "version": "3.9.12"
  }
 },
 "nbformat": 4,
 "nbformat_minor": 5
}
