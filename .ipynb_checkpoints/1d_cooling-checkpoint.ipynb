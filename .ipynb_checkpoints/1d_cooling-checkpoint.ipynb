{
 "cells": [
  {
   "cell_type": "code",
   "execution_count": 14,
   "id": "5597968d-63f1-4b91-89cd-5c1c8d6d3554",
   "metadata": {},
   "outputs": [],
   "source": [
    "import numpy as np\n",
    "import matplotlib.pyplot as plt\n",
    "import scipy\n",
    "import math"
   ]
  },
  {
   "cell_type": "markdown",
   "id": "fbb59029-d874-4ffc-bffd-61d1d9ebebfa",
   "metadata": {},
   "source": [
    "### <b> Temperature profile through lava before solidifcation </b>"
   ]
  },
  {
   "cell_type": "markdown",
   "id": "1edeed02-e55f-4219-8d7b-b14dc416b675",
   "metadata": {},
   "source": [
    "### Step 1: Choose a value for surface temperature and compute lambda"
   ]
  },
  {
   "cell_type": "code",
   "execution_count": 15,
   "id": "588e3307-46be-4e12-bd66-c9cd1f713650",
   "metadata": {},
   "outputs": [],
   "source": [
    "L = 320e3                 ## latent heat capacity in J/kg; value from Wittmann et al.2017\n",
    "c =  1200                 ## specific heat capacity in J/kg/K; value from Wittman et al. 2017\n",
    "\n",
    "T_magma = 1100+273        ## magma liquidus emplacement temperature in K\n",
    "T_surf = 476+273          ## venus atmospheric temperature\n",
    "\n",
    "RHS = L * np.pi ** 0.5 / c / (T_magma - T_surf)"
   ]
  },
  {
   "cell_type": "code",
   "execution_count": 16,
   "id": "42ae74c1-ba94-49bd-80fb-f304f517152e",
   "metadata": {},
   "outputs": [
    {
     "name": "stderr",
     "output_type": "stream",
     "text": [
      "/tmp/ipykernel_515/1880050599.py:3: RuntimeWarning: divide by zero encountered in double_scalars\n",
      "  lambda_final = c * (T_magma - T_surf) * np.exp(-1*lambda_init**2) / (L * np.pi**0.5 * math.erf(lambda_init))\n"
     ]
    },
    {
     "ename": "KeyboardInterrupt",
     "evalue": "",
     "output_type": "error",
     "traceback": [
      "\u001b[0;31m---------------------------------------------------------------------------\u001b[0m",
      "\u001b[0;31mKeyboardInterrupt\u001b[0m                         Traceback (most recent call last)",
      "Input \u001b[0;32mIn [16]\u001b[0m, in \u001b[0;36m<cell line: 3>\u001b[0;34m()\u001b[0m\n\u001b[1;32m      1\u001b[0m lambda_init \u001b[38;5;241m=\u001b[39m \u001b[38;5;241m0.5\u001b[39m\n\u001b[1;32m      2\u001b[0m \u001b[38;5;28;01mwhile\u001b[39;00m \u001b[38;5;28;01mTrue\u001b[39;00m:\n\u001b[0;32m----> 3\u001b[0m     lambda_final \u001b[38;5;241m=\u001b[39m c \u001b[38;5;241m*\u001b[39m (T_magma \u001b[38;5;241m-\u001b[39m T_surf) \u001b[38;5;241m*\u001b[39m np\u001b[38;5;241m.\u001b[39mexp(\u001b[38;5;241;43m-\u001b[39;49m\u001b[38;5;241;43m1\u001b[39;49m\u001b[38;5;241;43m*\u001b[39;49m\u001b[43mlambda_init\u001b[49m\u001b[38;5;241;43m*\u001b[39;49m\u001b[38;5;241;43m*\u001b[39;49m\u001b[38;5;241;43m2\u001b[39;49m) \u001b[38;5;241m/\u001b[39m (L \u001b[38;5;241m*\u001b[39m np\u001b[38;5;241m.\u001b[39mpi\u001b[38;5;241m*\u001b[39m\u001b[38;5;241m*\u001b[39m\u001b[38;5;241m0.5\u001b[39m \u001b[38;5;241m*\u001b[39m math\u001b[38;5;241m.\u001b[39merf(lambda_init))\n\u001b[1;32m      4\u001b[0m     temp \u001b[38;5;241m=\u001b[39m lambda_init\n\u001b[1;32m      5\u001b[0m     lambda_init \u001b[38;5;241m=\u001b[39m lambda_final\n",
      "\u001b[0;31mKeyboardInterrupt\u001b[0m: "
     ]
    }
   ],
   "source": [
    "lambda_init = 0.5\n",
    "while True:\n",
    "    lambda_final = c * (T_magma - T_surf) * np.exp(-1*lambda_init**2) / (L * np.pi**0.5 * math.erf(lambda_init))\n",
    "    temp = lambda_init\n",
    "    lambda_init = lambda_final\n",
    "    print(temp, lambda_init)\n",
    "    if (abs(temp - lambda_init) <= 0.001):\n",
    "        lambda_upper = lambda_final\n",
    "        break\n",
    "        \n",
    "print(lambda_final)"
   ]
  },
  {
   "cell_type": "code",
   "execution_count": null,
   "id": "8195e370-bc6f-4d6d-80bb-67c859d3749b",
   "metadata": {},
   "outputs": [],
   "source": [
    "lambda_init = 0.5\n",
    "while True:\n",
    "    lambda_final = c * (T_magma - T_surf) * np.exp(-1*lambda_init**2) / (L * np.pi**0.5 * (1+math.erf(lambda_init)))\n",
    "    temp = lambda_init\n",
    "    lambda_init = lambda_final\n",
    "    if (abs(temp - lambda_init) <= 0.001):\n",
    "        lambda_lower = lambda_final\n",
    "        break"
   ]
  }
 ],
 "metadata": {
  "kernelspec": {
   "display_name": "Python 3 (ipykernel)",
   "language": "python",
   "name": "python3"
  },
  "language_info": {
   "codemirror_mode": {
    "name": "ipython",
    "version": 3
   },
   "file_extension": ".py",
   "mimetype": "text/x-python",
   "name": "python",
   "nbconvert_exporter": "python",
   "pygments_lexer": "ipython3",
   "version": "3.9.12"
  }
 },
 "nbformat": 4,
 "nbformat_minor": 5
}
