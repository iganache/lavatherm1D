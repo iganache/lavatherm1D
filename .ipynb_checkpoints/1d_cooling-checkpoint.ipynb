{
 "cells": [
  {
   "cell_type": "code",
   "execution_count": 1,
   "id": "31bdae9a",
   "metadata": {
    "tags": []
   },
   "outputs": [],
   "source": [
    "import numpy as np\n",
    "import matplotlib.pyplot as plt\n",
    "from scipy.special import erf\n",
    "import math"
   ]
  },
  {
   "cell_type": "markdown",
   "id": "34f3077c",
   "metadata": {},
   "source": [
    "### <b> Temperature profile through lava before solidifcation - test run </b>"
   ]
  },
  {
   "cell_type": "markdown",
   "id": "c5383fad",
   "metadata": {},
   "source": [
    "### Step 1: Choose a value for surface temperature and compute lambda"
   ]
  },
  {
   "cell_type": "code",
   "execution_count": 2,
   "id": "82b5ce98",
   "metadata": {},
   "outputs": [
    {
     "name": "stdout",
     "output_type": "stream",
     "text": [
      "0.7431672330840736\n"
     ]
    }
   ],
   "source": [
    "L = 320e3                 ## latent heat capacity in J/kg; value from Wittmann et al.2017\n",
    "c =  1200                 ## specific heat capacity in J/kg/K; value from Wittman et al. 2017\n",
    "k = 3                     ## thermal conductivity in W/m/K from Head and Wilson 1986, and Davies et al., 2005\n",
    "kappa = 5e-7              ## thermal diffusivity in m2/s; value from Wittman et al. 2017 - Table 2 Peck (1978)\n",
    "\n",
    "T_magma = 1100+273        ## magma liquidus emplacement temperature in K\n",
    "T_surf = 737          ## venus atmospheric temperature\n",
    "\n",
    "RHS = L * np.pi ** 0.5 / c / (T_magma - T_surf)\n",
    "print(RHS)"
   ]
  },
  {
   "cell_type": "code",
   "execution_count": 3,
   "id": "5508902a",
   "metadata": {},
   "outputs": [],
   "source": [
    "lambda_up = np.arange(1.5, 0, -1e-5)\n",
    "lambda_down = np.arange(1.5, 0, -1e-5)\n",
    "def LHS_up(lambda_0):\n",
    "    LHS = np.exp(-1*lambda_0**2) / lambda_0 / erf(lambda_0)\n",
    "    return LHS\n",
    "\n",
    "def LHS_down(lambda_0):\n",
    "    LHS = np.exp(-1*lambda_0**2) / lambda_0 / (1+erf(lambda_0))\n",
    "    return LHS\n",
    "\n",
    "def temp_lower_crust(Tlava, Tsub, l, kappa, thickness, time):\n",
    "    m = (Tlava - Tsub) / (1+erf(l))\n",
    "    n = 1 + erf(thickness / 2 / (kappa*time)**0.5)\n",
    "    return ((m*n) + Tsub)\n",
    "\n",
    "def temp_upper_crust(Tlava, Tsurf, l, kappa, thickness, time):\n",
    "    m = (Tlava - Tsurf) / erf(l)\n",
    "    n = erf(thickness / 2 / (kappa*time)**0.5)\n",
    "    return (m*n) + Tsurf"
   ]
  },
  {
   "cell_type": "code",
   "execution_count": 4,
   "id": "77727517",
   "metadata": {},
   "outputs": [
    {
     "name": "stdout",
     "output_type": "stream",
     "text": [
      "lambda_up =  0.8492599999957369\n",
      "minimum =  4.162498710935658e-06\n"
     ]
    }
   ],
   "source": [
    "solution_up = RHS - LHS_up(lambda_up) \n",
    "print(\"lambda_up = \", lambda_up[np.argmin(np.abs(solution_up))])\n",
    "print(\"minimum = \", LHS_up(lambda_up[np.argmin(np.abs(solution_up))]) - RHS)\n",
    "l_up = lambda_up[np.argmin(np.abs(solution_up))]"
   ]
  },
  {
   "cell_type": "code",
   "execution_count": 5,
   "id": "2e7079f4",
   "metadata": {},
   "outputs": [
    {
     "name": "stdout",
     "output_type": "stream",
     "text": [
      "lambda_up =  0.5926399999940557\n",
      "minimum =  3.35863379052892e-06\n"
     ]
    }
   ],
   "source": [
    "solution_down = RHS - LHS_down(lambda_down) \n",
    "print(\"lambda_up = \", lambda_down[np.argmin(np.abs(solution_down))])\n",
    "print(\"minimum = \", LHS_down(lambda_down[np.argmin(np.abs(solution_down))]) - RHS)\n",
    "l_down = lambda_down[np.argmin(np.abs(solution_down))]"
   ]
  },
  {
   "cell_type": "markdown",
   "id": "25449fb1",
   "metadata": {
    "jp-MarkdownHeadingCollapsed": true,
    "tags": []
   },
   "source": [
    "### Proper iteration - doesn't work for lambda_up"
   ]
  },
  {
   "cell_type": "code",
   "execution_count": null,
   "id": "92763812",
   "metadata": {},
   "outputs": [],
   "source": [
    "lambda_init = 1.7\n",
    "while True:\n",
    "    lambda_final = c * (T_magma - T_surf) * np.exp(-1*lambda_init**2) / (L * np.pi**0.5 * math.erf(lambda_init))\n",
    "    temp = lambda_init\n",
    "    lambda_init = lambda_final\n",
    "    print(temp, lambda_init)\n",
    "    if (abs(temp - lambda_init) <= 0.001):\n",
    "        lambda_upper = lambda_final\n",
    "        break"
   ]
  },
  {
   "cell_type": "code",
   "execution_count": null,
   "id": "af890eaa",
   "metadata": {},
   "outputs": [],
   "source": [
    "lambda_init = 0.5\n",
    "while True:\n",
    "    lambda_final = c * (T_magma - T_surf) * np.exp(-1*lambda_init**2) / (L * np.pi**0.5 * (1+math.erf(lambda_init)))\n",
    "    temp = lambda_init\n",
    "    lambda_init = lambda_final\n",
    "    if (abs(temp - lambda_init) <= 0.0001):\n",
    "        lambda_lower = lambda_final\n",
    "        break\n",
    "        \n",
    "print(lambda_lower)"
   ]
  },
  {
   "cell_type": "markdown",
   "id": "9d03e97b",
   "metadata": {},
   "source": [
    "### Step 2: Compute time t by equating surface temperature gradient to heat flux through the surface"
   ]
  },
  {
   "cell_type": "code",
   "execution_count": 9,
   "id": "f5ffffb9",
   "metadata": {},
   "outputs": [
    {
     "name": "stdout",
     "output_type": "stream",
     "text": [
      "surface heat flux =  8641.73797127113\n",
      "time in hours =  14.529638264105307\n"
     ]
    }
   ],
   "source": [
    "surface_heat_loss = 1.07 * 1e-13 * T_surf**4.85 * 1000                    ## heat flux in W/m2 using eq 8 of Flynn et al. 2023\n",
    "t_sqroot = k * (T_magma - T_surf) / erf(l_up) / (np.pi*kappa)**0.5 / surface_heat_loss\n",
    "t = t_sqroot**2\n",
    "print(\"surface heat flux = \", surface_heat_loss)\n",
    "print(\"time in hours = \", t/3600)"
   ]
  },
  {
   "cell_type": "markdown",
   "id": "e523c6e7",
   "metadata": {},
   "source": [
    "### Step 3: Compute crustal thickneess from lambda and time t"
   ]
  },
  {
   "cell_type": "code",
   "execution_count": 10,
   "id": "afc5fb4b",
   "metadata": {},
   "outputs": [
    {
     "name": "stdout",
     "output_type": "stream",
     "text": [
      "upper_crust_thickness = 0.2746846043808657\n",
      "basal_crust_thickness = 0.19168344669413445\n"
     ]
    }
   ],
   "source": [
    "def crustal_thickness(l, kappa, t):\n",
    "    return 2 * l * (kappa * t)**0.5\n",
    "\n",
    "upper_crust_thickness = crustal_thickness(l_up, kappa, t) \n",
    "basal_crust_thickness = crustal_thickness(l_down, kappa, t)\n",
    "print(\"upper_crust_thickness =\", upper_crust_thickness)\n",
    "print(\"basal_crust_thickness =\", basal_crust_thickness)"
   ]
  },
  {
   "cell_type": "markdown",
   "id": "20053966",
   "metadata": {},
   "source": [
    "### Step 4: Calculation of temperature profile for a 5 m thick lava flow before solidification"
   ]
  },
  {
   "cell_type": "code",
   "execution_count": 11,
   "id": "81747ba5",
   "metadata": {},
   "outputs": [],
   "source": [
    "T_b = 476 + 273\n",
    "lava_thickness = 5\n",
    "y_down = np.linspace(0, basal_crust_thickness, 50)\n",
    "# T_base = T_base + ( ((T_magma -T_base) / (erf(l_down) + 1)) * (1 + erf(y_down / 2*(kappa*t)**0.5)) )\n",
    "T_base = T_b + (1 + erf(y_down / 2 * (kappa*3.156e+7)**0.5)) * (T_magma-T_b) / (erf(l_down) + 1)\n",
    "\n",
    "y_up = np.linspace(upper_crust_thickness, 0, 50)\n",
    "# T_upper = T_surf + ( ((T_magma -T_surf) / erf(l_up)) * ( erf((lava_thickness-y_up) / 2*(kappa*t)**0.5)) )\n",
    "T_upper = T_surf + (erf((lava_thickness-y_up) / 2*(kappa*3.156e+7)**0.5) * (T_magma-T_surf) / erf(l_up))  "
   ]
  },
  {
   "cell_type": "markdown",
   "id": "f5cc1006",
   "metadata": {},
   "source": [
    "### <b> Temperature profile through lava before solidifcation - complete workflow </b>"
   ]
  },
  {
   "cell_type": "code",
   "execution_count": 5,
   "id": "ead82847",
   "metadata": {
    "tags": []
   },
   "outputs": [],
   "source": [
    "## Initial variables\n",
    "\n",
    "## All tempertaures in Kelvin\n",
    "Tlava = 1473                                   ## Magma liquidus temperature \n",
    "Tsub = 737                                     ## Substrate temperature\n",
    "Tsurf = np.linspace(1400, Tsub, 3)             ## Surface temperatures - rangomg from liquidus to ambient\n",
    "\n",
    "## Other variables\n",
    "L = 320e3                 ## latent heat capacity in J/kg; value from Wittmann et al.2017\n",
    "c =  1200                 ## specific heat capacity in J/kg/K; value from Wittman et al. 2017\n",
    "k = 3                     ## thermal conductivity in W/m/K from Head and Wilson 1986, and Davies et al., 2005\n",
    "kappa = 5e-7              ## thermal diffusivity in m2/s; value from Wittman et al. 2017 - Table 2 Peck (1978)\n",
    "\n",
    "lava_thickness = 5       ## thickness of lava flow in meters\n",
    "\n",
    "## Predefined set of lambdasfor solcing the transcendental Stefan problem\n",
    "lambdas = np.arange(1.5, 0, -1e-5)"
   ]
  },
  {
   "cell_type": "code",
   "execution_count": 6,
   "id": "bf68680a",
   "metadata": {
    "tags": []
   },
   "outputs": [],
   "source": [
    "## Functions\n",
    "\n",
    "def Stefan_lambda_upper(lambda_0):\n",
    "    LHS = np.exp(-1*lambda_0**2) / lambda_0 / erf(lambda_0)\n",
    "    return LHS\n",
    "\n",
    "def Stefan_lambda_lower(lambda_0):\n",
    "    LHS = np.exp(-1*lambda_0**2) / lambda_0 / (1+erf(lambda_0))\n",
    "    return LHS\n",
    "\n",
    "def crustal_thickness(l, kappa, t):\n",
    "    return 2 * l * (kappa * t)**0.5\n",
    "\n",
    "def temp_lower_crust(Tlava, Tsub, l, kappa, thickness, time):\n",
    "    m = (Tlava - Tsub) / (1+erf(l))\n",
    "    n = 1 + erf(thickness / 2 / (kappa*time)**0.5)\n",
    "    return ((m*n) + Tsub)\n",
    "\n",
    "def temp_upper_crust(Tlava, Tsurf, l, kappa, thickness, time):\n",
    "    m = (Tlava - Tsurf) / erf(l)\n",
    "    n = erf(thickness / 2 / (kappa*time)**0.5)\n",
    "    return (m*n) + Tsurf"
   ]
  },
  {
   "cell_type": "markdown",
   "id": "b6120600",
   "metadata": {},
   "source": [
    "### Workflow"
   ]
  },
  {
   "cell_type": "code",
   "execution_count": 103,
   "id": "30a617f5",
   "metadata": {
    "tags": []
   },
   "outputs": [
    {
     "name": "stdout",
     "output_type": "stream",
     "text": [
      "upper_crust_thickness = 2.5000000173505885\n",
      "basal_crust_thickness = 2.5000000173505885\n",
      "lava solidification occured at  1095.4233502951415  hours\n",
      "time in hours =  287.66126696180805\n",
      "time in hours =  556.9152947395859\n",
      "time in hours =  826.1693225173636\n",
      "time in hours =  1095.4233502951415\n"
     ]
    },
    {
     "data": {
      "image/png": "[encoded data removed]",
      "text/plain": [
       "<Figure size 576x576 with 1 Axes>"
      ]
     },
     "metadata": {
      "needs_background": "light"
     },
     "output_type": "display_data"
    }
   ],
   "source": [
    "colors = [\"#000000\",\"#004949\",\"#009292\",\"#ff6db6\",\"#ffb6db\",\n",
    " \"#490092\",\"#006ddb\",\"#b66dff\",\"#6db6ff\",\"#b6dbff\",\n",
    " \"#920000\",\"#924900\",\"#db6d00\",\"#24ff24\",\"#ffff6d\"]\n",
    "\n",
    "fig, ax = plt.subplots(1,1)\n",
    "fig.set_size_inches(8, 8)\n",
    "\n",
    "\n",
    "t_surface_eq = 0\n",
    "l_lower = 0\n",
    "l_upper = 0\n",
    "\n",
    "## Compute lambda for lower crust conduction   \n",
    "LHS_lower = L * np.pi ** 0.5 / c / (Tlava - Tsub)                                                ## Compute LHS of Stefan problem    \n",
    "l_lower = lambdas[np.argmin(np.abs(LHS_lower - Stefan_lambda_upper(lambdas)))]                   ## Find value of lamba that produces RHS equal to the LHS   \n",
    "    \n",
    "    \n",
    "## Model till surface temperature is equilibrated to the ambient temperature\n",
    "## loop through all surface temperatures\n",
    "for i, Ts in enumerate(Tsurf):\n",
    "    \n",
    "    ## Compute lambda for upper crust conduction   \n",
    "    LHS_upper = L * np.pi ** 0.5 / c / (Tlava - Ts)                                                  ## Compute LHS of Stefan problem\n",
    "    l_upper = lambdas[np.argmin(np.abs(LHS_upper - Stefan_lambda_upper(lambdas)))]                   ## Find value of lamba that produces RHS equal to the LHS   \n",
    "\n",
    "    \n",
    "    \n",
    "    ## Compute time t by equating surface temperature gradient to heat flux through the surface\n",
    "    Q_snyder = 1.07 * 1e-13 * Ts**4.85 * 1000                                                        ## heat flux in W/m2 using eq 8 of Flynn et al. 2023\n",
    "    t_sqroot = k * (Tlava - Ts) / erf(l_upper) / (np.pi*kappa)**0.5 / Q_snyder\n",
    "    t = t_sqroot**2\n",
    "    t_surface_eq = t\n",
    "    # print(\"Snyder's surface heat flux in W/m2 = \", Q_snyder)\n",
    "#     print(\"time in hours = \", t/3600)  \n",
    "    \n",
    "    \n",
    "    ## Compute crustal thickneess from lambda and time t\n",
    "    C_lower = crustal_thickness(l_lower, kappa, t)\n",
    "    C_upper = crustal_thickness(l_upper, kappa, t) \n",
    "    # print(\"upper_crust_thickness =\", C_upper)\n",
    "    # print(\"basal_crust_thickness =\", C_lower)\n",
    "    \n",
    "    if abs(C_lower + C_upper - lava_thickness) <= 1e-3:\n",
    "        print(\"lava solidification occured at or before \", t/3600, \" hours\")\n",
    "        break\n",
    "    \n",
    "    ## Calculation of temperature profile for a 15 m thick lava flow before solidification\n",
    "    y_lower = np.linspace(-100, C_lower, 100)\n",
    "    T_lower = (((Tlava-Tsub) / (erf(l_lower)+1)) * (1 + erf(y_lower / 2/ (kappa*t)**0.5))) + Tsub\n",
    "    # T_lower = temp_lower_crust(Tlava, Tsub, l_lower, kappa, y_lower, t)\n",
    "       \n",
    "    y_upper = np.linspace(0, C_upper, 100)\n",
    "    T_upper = (((Tlava-Ts) / erf(l_upper)) * erf((y_upper) / 2/(kappa*t)**0.5)) + Ts\n",
    "    # T_upper = temp_upper_crust(Tlava, Ts, l, kappa, y_upper, t):\n",
    "    \n",
    "    ax.plot(T_lower, y_lower, \"--\", color = colors[i])\n",
    "    ax.plot(T_upper, lava_thickness-y_upper, color = colors[i])\n",
    "    \n",
    "###################################################################################################################    \n",
    "\n",
    "## find the time at which the upper and lower crust meet\n",
    "time_solid = 0\n",
    "crustal_growth_period = np.arange(t_surface_eq, 4e7, 1)\n",
    "\n",
    "for t in crustal_growth_period:\n",
    "    ## Compute crustal thickneess from lambda and time t\n",
    "    C_lower = crustal_thickness(l_lower, kappa, t)\n",
    "    C_upper = crustal_thickness(l_upper, kappa, t)\n",
    "    if C_lower + C_upper >= lava_thickness:  \n",
    "            print(\"upper_crust_thickness =\", C_upper)\n",
    "            print(\"basal_crust_thickness =\", C_lower)\n",
    "            print(\"lava solidification occured at \", time_solid/3600, \" hours\")\n",
    "            break\n",
    "    time_solid = t\n",
    "       \n",
    "####################################################################################################################   \n",
    "\n",
    "## Model after surface temperature os equilibrated to the ambient temperature\n",
    "time = np.linspace(t_surface_eq, time_solid, 5)\n",
    "z_upper_solid = 0\n",
    "z_lower_solid = 0\n",
    "T_upper_solid = 0\n",
    "T_lower_solid = 0\n",
    "\n",
    "dy = 1e-1\n",
    "for i, t in enumerate(time):\n",
    "    if i > 0:\n",
    "        print(\"time in hours = \", t/3600)\n",
    "        ## Compute crustal thickneess from lambda and time t\n",
    "        C_lower = crustal_thickness(l_lower, kappa, t)\n",
    "        C_upper = crustal_thickness(l_upper, kappa, t) \n",
    "#         print(\"upper_crust_thickness =\", C_upper)\n",
    "#         print(\"basal_crust_thickness =\", C_lower)\n",
    "\n",
    "        ## Calculation of temperature profile for a 15 m thick lava flow before solidification\n",
    "        y_lower = np.arange(-100, C_lower+dy, dy)\n",
    "        T_lower = (((Tlava-Tsub) / (erf(l_lower)+1)) * (1 + erf(y_lower / 2/ (kappa*t)**0.5))) + Tsub\n",
    "        # Tz_lower = temp_lower_crust(Tlava, Tsub, l_lower, kappa, y_lower, t)\n",
    "\n",
    "        y_upper = np.arange(0, C_upper+dy, dy)\n",
    "        T_upper = (((Tlava-Tsub) / erf(l_upper)) * erf((y_upper) / 2/(kappa*t)**0.5)) + Tsub\n",
    "        # Tz_upper = temp_upper_crust(Tlava, Ts, l, kappa, y_upper, t):\n",
    "        \n",
    "        if t==time[-1]:\n",
    "            z_lower_solid = y_lower\n",
    "            z_upper_solid = lava_thickness-y_upper\n",
    "            T_lower_solid = T_lower\n",
    "            T_upper_solid = T_upper\n",
    "            \n",
    "\n",
    "        ax.plot(T_lower, y_lower, \"--\", color = colors[5+i])\n",
    "        ax.plot(T_upper, lava_thickness-y_upper, color = colors[5+i])\n",
    "\n",
    "    \n",
    "plt.axhline(5, color='k')\n",
    "plt.axhline(0, color='k')\n",
    "\n",
    "plt.ylim(-5, lava_thickness + 2)\n",
    "plt.show()"
   ]
  },
  {
   "cell_type": "markdown",
   "id": "5116db34",
   "metadata": {},
   "source": [
    "### <b> Temperature profile through lava after solidifcation - test run </b>"
   ]
  },
  {
   "cell_type": "code",
   "execution_count": 123,
   "id": "ddd354be",
   "metadata": {
    "tags": []
   },
   "outputs": [],
   "source": [
    "## Setting up model domain\n",
    "dz = dy\n",
    "z_range = np.arange(-100, lava_thickness+dz, dz)              ## delta_x in meters\n",
    "\n",
    "dt = 1e-3                                                     ## delta_t in seconds\n",
    "time_total = time_solid + (20)\n",
    "# t_range = np.arange(time_solid, time_total+dt, dt).astype(np.float32)\n",
    "\n",
    "## Initial_condition\n",
    "t = time_solid\n",
    "z = np.concatenate((z_lower_solid, np.flip(z_upper_solid)[1:]), axis = 0)          ## join together lower crust z and upper crust z\n",
    "T_n = np.concatenate((T_lower_solid, np.flip(T_upper_solid)[1:]), axis = 0)          ## join together lower crust T and upper crust T\n",
    "\n",
    "## Note 1: Upper crust measuremnts are z downwards, so they need to be flipped \n",
    "## Note 2: The soldification point (z, T) are present in both the lower crust array and the upper crust array; removing the common (z, T) upper crust array.\n",
    "\n",
    "m = 30\n",
    "dprint = (time_total - time_solid) / m\n",
    "printat = time_solid + dprint\n",
    "\n",
    "T_PSC = np.zeros((m, len(z_range)), dtype=np.float32)"
   ]
  },
  {
   "cell_type": "code",
   "execution_count": 124,
   "id": "5872656c-352a-430d-8563-a862b77cff3d",
   "metadata": {
    "tags": []
   },
   "outputs": [
    {
     "data": {
      "image/png": "[encoded data removed]",
      "text/plain": [
       "<Figure size 432x288 with 1 Axes>"
      ]
     },
     "metadata": {
      "needs_background": "light"
     },
     "output_type": "display_data"
    }
   ],
   "source": [
    "plt.figure()\n",
    "plt.plot(T_n, z)\n",
    "idx = 0\n",
    "while t <= time_total:\n",
    "    \n",
    "    T_nplus = T_n + ( \n",
    "                    (k*dt/dz**2) * np.diff(T_n, n=2, prepend = T_n[0], append=T_n[-1]) \n",
    "                  )   \n",
    "    \n",
    "    # check whether to store output\n",
    "    if t >= printat:\n",
    "        # print(idx)\n",
    "        # print(t/3600/24)\n",
    "        T_PSC[idx, :] = T_nplus\n",
    "        printat += dprint\n",
    "        idx += 1\n",
    "        plt.plot(T_nplus, z)\n",
    "        \n",
    "    # Update boundary_conditions\n",
    "    T_nplus[0] = Tsub\n",
    "    T_nplus[-1] = Tsub\n",
    "    \n",
    "    # variables for next step\n",
    "    T_n = T_nplus\n",
    "    t+=dt\n",
    "    \n",
    "plt.ylim(-25, lava_thickness + 2)\n",
    "plt.show()   "
   ]
  },
  {
   "cell_type": "code",
   "execution_count": 117,
   "id": "bc66b2d7",
   "metadata": {
    "tags": []
   },
   "outputs": [
    {
     "data": {
      "image/png": "[encoded data removed]",
      "text/plain": [
       "<Figure size 576x576 with 1 Axes>"
      ]
     },
     "metadata": {
      "needs_background": "light"
     },
     "output_type": "display_data"
    }
   ],
   "source": [
    "fig, ax = plt.subplots(1,1)\n",
    "fig.set_size_inches(8, 8)\n",
    "\n",
    "for i in range(m):\n",
    "    ax.plot(T_PSC[i], z)\n",
    "    \n",
    "\n",
    "plt.xlim(700, 1500)\n",
    "plt.ylim(-5, lava_thickness + 2)\n",
    "plt.show()    "
   ]
  },
  {
   "cell_type": "code",
   "execution_count": 20,
   "id": "acd885ef-1bd3-4ce3-8856-370e8e816860",
   "metadata": {
    "tags": []
   },
   "outputs": [
    {
     "data": {
      "text/plain": [
       "array([[737.,  nan,  nan, ...,  nan,  nan, 737.],\n",
       "       [737.,  nan,  nan, ...,  nan,  nan, 737.],\n",
       "       [737.,  nan,  nan, ...,  nan,  nan, 737.],\n",
       "       ...,\n",
       "       [737.,  nan,  nan, ...,  nan,  nan, 737.],\n",
       "       [737.,  nan,  nan, ...,  nan,  nan, 737.],\n",
       "       [  0.,   0.,   0., ...,   0.,   0.,   0.]], dtype=float32)"
      ]
     },
     "execution_count": 20,
     "metadata": {},
     "output_type": "execute_result"
    }
   ],
   "source": [
    "T_PSC"
   ]
  },
  {
   "cell_type": "code",
   "execution_count": 42,
   "id": "9f1eac5d-459d-40d2-bbcb-aa60d03eb16b",
   "metadata": {
    "tags": []
   },
   "outputs": [
    {
     "data": {
      "text/plain": [
       "0.041666666666666664"
      ]
     },
     "execution_count": 42,
     "metadata": {},
     "output_type": "execute_result"
    }
   ],
   "source": [
    ".5**3 / 3"
   ]
  },
  {
   "cell_type": "code",
   "execution_count": null,
   "id": "8599d1df-6fbf-4cbf-ba43-d7a1fb707a5a",
   "metadata": {},
   "outputs": [],
   "source": []
  }
 ],
 "metadata": {
  "kernelspec": {
   "display_name": "Python 3 (ipykernel)",
   "language": "python",
   "name": "python3"
  },
  "language_info": {
   "codemirror_mode": {
    "name": "ipython",
    "version": 3
   },
   "file_extension": ".py",
   "mimetype": "text/x-python",
   "name": "python",
   "nbconvert_exporter": "python",
   "pygments_lexer": "ipython3",
   "version": "3.9.12"
  }
 },
 "nbformat": 4,
 "nbformat_minor": 5
}
